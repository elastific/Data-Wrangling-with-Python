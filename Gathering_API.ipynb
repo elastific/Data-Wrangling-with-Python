{
 "cells": [
  {
   "cell_type": "code",
   "execution_count": 6,
   "metadata": {
    "collapsed": true
   },
   "outputs": [
    {
     "name": "stdout",
     "output_type": "stream",
     "text": [
      "Requirement already satisfied: wptools in c:\\users\\rahman\\anaconda3\\lib\\site-packages\n",
      "Requirement already satisfied: certifi in c:\\users\\rahman\\anaconda3\\lib\\site-packages (from wptools)\n",
      "Requirement already satisfied: lxml in c:\\users\\rahman\\anaconda3\\lib\\site-packages (from wptools)\n",
      "Requirement already satisfied: html2text in c:\\users\\rahman\\anaconda3\\lib\\site-packages (from wptools)\n",
      "Requirement already satisfied: pycurl in c:\\users\\rahman\\anaconda3\\lib\\site-packages (from wptools)\n"
     ]
    },
    {
     "name": "stderr",
     "output_type": "stream",
     "text": [
      "You are using pip version 9.0.1, however version 9.0.2 is available.\n",
      "You should consider upgrading via the 'python -m pip install --upgrade pip' command.\n"
     ]
    }
   ],
   "source": [
    "! pip install wptools"
   ]
  },
  {
   "cell_type": "code",
   "execution_count": 7,
   "metadata": {},
   "outputs": [],
   "source": [
    "import wptools"
   ]
  },
  {
   "cell_type": "code",
   "execution_count": 18,
   "metadata": {},
   "outputs": [],
   "source": [
    "page = wptools.page('E.T._the_Extra-Terrestrial')"
   ]
  },
  {
   "cell_type": "code",
   "execution_count": 19,
   "metadata": {},
   "outputs": [
    {
     "name": "stderr",
     "output_type": "stream",
     "text": [
      "en.wikipedia.org (query) E.T._the_Extra-Terrestrial\n",
      "en.wikipedia.org (parse) 73441\n",
      "www.wikidata.org (wikidata) Q11621\n",
      "www.wikidata.org (labels) Q281939|Q505449|P4786|Q374540|Q45171911...\n",
      "www.wikidata.org (labels) Q1131772|Q787127|P495|Q168383|Q181508|Q...\n",
      "www.wikidata.org (labels) Q229009|P3143|P3145|Q1011509|P3135|P268...\n",
      "www.wikidata.org (labels) Q8395520|P1804|Q131285|P4276|Q464522|P4...\n",
      "en.wikipedia.org (restbase) /page/summary/E.T._the_Extra-Terrestrial\n",
      "en.wikipedia.org (imageinfo) File:E t the extra terrestrial ver3....\n",
      "E.T. the Extra-Terrestrial (en) data\n",
      "{\n",
      "  aliases: <list(2)> E.T., ET\n",
      "  assessments: <dict(4)> Film, Science Fiction, Library of Congres...\n",
      "  claims: <dict(80)> P2061, P135, P4786, P1417, P1476, P1562, P18,...\n",
      "  description: 1982 American science fiction film\n",
      "  exhtml: <str(606)> <p><i><b>E.T. the Extra-Terrestrial</b></i> i...\n",
      "  exrest: <str(575)> E.T. the Extra-Terrestrial is a 1982 American...\n",
      "  extext: <str(1803)> _**E.T. the Extra-Terrestrial**_ is a 1982 A...\n",
      "  extract: <str(1899)> <p><i><b>E.T. the Extra-Terrestrial</b></i>...\n",
      "  image: <list(4)> {'width': 253, 'orig': 'E t the extra terrestri...\n",
      "  infobox: <dict(18)> starring, name, writer, music, cinematograph...\n",
      "  iwlinks: <list(4)> https://commons.wikimedia.org/wiki/Special:Se...\n",
      "  label: E.T. the Extra-Terrestrial\n",
      "  labels: <dict(158)> P2508, Q139184, Q281939, Q505449, P2061, P27...\n",
      "  length: 75,280\n",
      "  links: <list(416)> 12 Monkeys, 12 Years a Slave (film), 1941 (fi...\n",
      "  modified: <dict(2)> wikidata, page\n",
      "  pageid: 73441\n",
      "  parsetree: <str(93803)> <root><template><title>Redirect</title><...\n",
      "  random: A Certain Slant of Light (novel)\n",
      "  redirects: <list(38)> {'ns': 0, 'title': 'E.T., the Extra-Terres...\n",
      "  requests: <list(9)> query, parse, wikidata, labels, labels, labe...\n",
      "  title: E.T._the_Extra-Terrestrial\n",
      "  url: https://en.wikipedia.org/wiki/E.T._the_Extra-Terrestrial\n",
      "  url_raw: <str(67)> https://en.wikipedia.org/wiki/E.T._the_Extra-...\n",
      "  watchers: 260\n",
      "  what: film\n",
      "  wikibase: Q11621\n",
      "  wikidata: <dict(80)> Library of Congress authority ID (P244), De...\n",
      "  wikidata_pageid: 13150\n",
      "  wikidata_url: https://www.wikidata.org/wiki/Q11621\n",
      "  wikitext: <str(74991)> {{Redirect|E.T.|other uses|ET (disambigua...\n",
      "}\n"
     ]
    },
    {
     "data": {
      "text/plain": [
       "<wptools.page.WPToolsPage at 0x153c5807438>"
      ]
     },
     "execution_count": 19,
     "metadata": {},
     "output_type": "execute_result"
    }
   ],
   "source": [
    "page.get()"
   ]
  },
  {
   "cell_type": "code",
   "execution_count": 45,
   "metadata": {},
   "outputs": [
    {
     "data": {
      "text/plain": [
       "{'descriptionshorturl': 'https://en.wikipedia.org/w/index.php?curid=7419503',\n",
       " 'descriptionurl': 'https://en.wikipedia.org/wiki/File:E_t_the_extra_terrestrial_ver3.jpg',\n",
       " 'file': 'File:E t the extra terrestrial ver3.jpg',\n",
       " 'height': 394,\n",
       " 'kind': 'parse-image',\n",
       " 'metadata': {'Assessments': {'hidden': '',\n",
       "   'source': 'commons-categories',\n",
       "   'value': ''},\n",
       "  'Categories': {'hidden': '',\n",
       "   'source': 'commons-categories',\n",
       "   'value': 'All non-free media|E.T. the Extra-Terrestrial|Fair use images of movie posters|Files with no machine-readable author|Files with no machine-readable description|Files with no machine-readable license|Files with no machine-readable source|Noindexed pages|Non-free images for NFUR review|Non-free posters'},\n",
       "  'CommonsMetadataExtension': {'hidden': '',\n",
       "   'source': 'extension',\n",
       "   'value': 1.2},\n",
       "  'DateTime': {'hidden': '',\n",
       "   'source': 'mediawiki-metadata',\n",
       "   'value': '2016-06-04 10:30:46'},\n",
       "  'NonFree': {'hidden': '', 'source': 'commons-desc-page', 'value': 'true'},\n",
       "  'ObjectName': {'hidden': '',\n",
       "   'source': 'mediawiki-metadata',\n",
       "   'value': 'E t the extra terrestrial ver3'},\n",
       "  'Restrictions': {'hidden': '', 'source': 'commons-desc-page', 'value': ''}},\n",
       " 'orig': 'E t the extra terrestrial ver3.jpg',\n",
       " 'size': 83073,\n",
       " 'timestamp': '2016-06-04T10:30:46Z',\n",
       " 'title': 'File:E t the extra terrestrial ver3.jpg',\n",
       " 'url': 'https://upload.wikimedia.org/wikipedia/en/6/66/E_t_the_extra_terrestrial_ver3.jpg',\n",
       " 'width': 253}"
      ]
     },
     "execution_count": 45,
     "metadata": {},
     "output_type": "execute_result"
    }
   ],
   "source": [
    "page.data['image'][0]"
   ]
  },
  {
   "cell_type": "code",
   "execution_count": 55,
   "metadata": {},
   "outputs": [
    {
     "data": {
      "text/plain": [
       "'https://upload.wikimedia.org/wikipedia/en/6/66/E_t_the_extra_terrestrial_ver3.jpg'"
      ]
     },
     "execution_count": 55,
     "metadata": {},
     "output_type": "execute_result"
    }
   ],
   "source": [
    "image_url = page.data['image'][0]['url']\n",
    "image_url"
   ]
  },
  {
   "cell_type": "code",
   "execution_count": 51,
   "metadata": {},
   "outputs": [
    {
     "data": {
      "text/plain": [
       "{'budget': '[[United States dollar|$]]10.5 million',\n",
       " 'caption': 'Theatrical release poster<br />by [[John Alvin]]',\n",
       " 'cinematography': '[[Allen Daviau]]',\n",
       " 'country': 'United States',\n",
       " 'director': '[[Steven Spielberg]]',\n",
       " 'distributor': 'Universal Pictures',\n",
       " 'editing': '[[Carol Littleton]]',\n",
       " 'gross': '[[United States dollar|$]]792.9 million',\n",
       " 'image': 'E t the extra terrestrial ver3.jpg',\n",
       " 'language': 'English',\n",
       " 'music': '[[John Williams]]',\n",
       " 'name': 'E.T. the Extra-Terrestrial',\n",
       " 'producers': '{{ubl|[[Kathleen Kennedy (producer)|Kathleen Kennedy]]|Steven Spielberg}}',\n",
       " 'released': '{{Film date|1982|05|26|[[1982 Cannes Film Festival|Cannes]]|1982|06|11|United States}}',\n",
       " 'runtime': '114 minutes',\n",
       " 'starring': '{{Plainlist|\\n* [[Dee Wallace]]\\n* [[Peter Coyote]]\\n* [[Henry Thomas]]}}',\n",
       " 'studio': '[[Universal Studios|Universal Pictures]]',\n",
       " 'writer': '[[Melissa Mathison]]'}"
      ]
     },
     "execution_count": 51,
     "metadata": {},
     "output_type": "execute_result"
    }
   ],
   "source": [
    "infobox_json = page.data['infobox']\n",
    "infobox_json"
   ]
  },
  {
   "cell_type": "code",
   "execution_count": null,
   "metadata": {},
   "outputs": [],
   "source": [
    "for url in ebert_review_urls:\n",
    "    response = requests.get(url)\n",
    "    with open(os.path.join(folder_name, url.split('/')[-1]), mode='wb') as file:\n",
    "        file.write(response.content)"
   ]
  }
 ],
 "metadata": {
  "kernelspec": {
   "display_name": "Python [default]",
   "language": "python",
   "name": "python3"
  },
  "language_info": {
   "codemirror_mode": {
    "name": "ipython",
    "version": 3
   },
   "file_extension": ".py",
   "mimetype": "text/x-python",
   "name": "python",
   "nbconvert_exporter": "python",
   "pygments_lexer": "ipython3",
   "version": "3.5.5"
  }
 },
 "nbformat": 4,
 "nbformat_minor": 2
}
