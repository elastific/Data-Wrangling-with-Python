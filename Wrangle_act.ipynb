{
 "cells": [
  {
   "cell_type": "markdown",
   "metadata": {},
   "source": [
    "# Importing all required libraries"
   ]
  },
  {
   "cell_type": "code",
   "execution_count": 1,
   "metadata": {},
   "outputs": [],
   "source": [
    "import os\n",
    "import requests\n",
    "import json\n",
    "cwd = os.getcwd()"
   ]
  },
  {
   "cell_type": "code",
   "execution_count": 453,
   "metadata": {},
   "outputs": [],
   "source": [
    "import matplotlib.pyplot as plt\n",
    "from matplotlib import rcParams\n",
    "import matplotlib as mpl\n",
    "import seaborn as sb\n",
    "import numpy as np\n",
    "import pandas as pd\n",
    "from pandas import Series\n",
    "import zipfile\n",
    "from bs4 import BeautifulSoup\n",
    "import re\n",
    "\n",
    "%matplotlib inline\n",
    "%config InlineBackend.figure_format = 'retina'\n",
    "rcParams['figure.figsize'] = 5, 4\n",
    "sb.set_style('whitegrid')\n",
    "\n",
    "\n",
    "pd.set_option('display.height', 1000)\n",
    "pd.set_option('display.max_rows', 1000)\n",
    "pd.set_option('display.max_columns', 500)\n",
    "pd.set_option('display.width', 1000)\n"
   ]
  },
  {
   "cell_type": "markdown",
   "metadata": {},
   "source": [
    "# Gathering Data"
   ]
  },
  {
   "cell_type": "markdown",
   "metadata": {},
   "source": [
    "## Getting the Twitter Archive"
   ]
  },
  {
   "cell_type": "code",
   "execution_count": 507,
   "metadata": {},
   "outputs": [
    {
     "name": "stdout",
     "output_type": "stream",
     "text": [
      "<class 'pandas.core.frame.DataFrame'>\n",
      "RangeIndex: 2356 entries, 0 to 2355\n",
      "Data columns (total 17 columns):\n",
      "tweet_id                      2356 non-null int64\n",
      "in_reply_to_status_id         78 non-null float64\n",
      "in_reply_to_user_id           78 non-null float64\n",
      "timestamp                     2356 non-null object\n",
      "source                        2356 non-null object\n",
      "text                          2356 non-null object\n",
      "retweeted_status_id           181 non-null float64\n",
      "retweeted_status_user_id      181 non-null float64\n",
      "retweeted_status_timestamp    181 non-null object\n",
      "expanded_urls                 2297 non-null object\n",
      "rating_numerator              2356 non-null int64\n",
      "rating_denominator            2356 non-null int64\n",
      "name                          2356 non-null object\n",
      "doggo                         2356 non-null object\n",
      "floofer                       2356 non-null object\n",
      "pupper                        2356 non-null object\n",
      "puppo                         2356 non-null object\n",
      "dtypes: float64(4), int64(3), object(10)\n",
      "memory usage: 313.0+ KB\n"
     ]
    }
   ],
   "source": [
    "df = pd.read_csv('twitter-archive-enhanced.csv')\n",
    "df.info()"
   ]
  },
  {
   "cell_type": "markdown",
   "metadata": {},
   "source": [
    "## Getting the extra data from Twitter API"
   ]
  },
  {
   "cell_type": "code",
   "execution_count": null,
   "metadata": {},
   "outputs": [],
   "source": [
    "import tweepy\n",
    "\n",
    "consumer_key = 'ejjJsGZP91PETUTLFQnl1I47g'\n",
    "consumer_secret = 'tT2dnqoWcJonM1RGCVkMl6net7kBYRsUsHnD12r5MpAI35Zdwv'\n",
    "access_token = '49008389-54oYNUfoyb0GGuaKRSWlhZQKn19RQq9AI5ZwqaRdA'\n",
    "access_secret = 'K4qvZSLINbo8tnF7e3AJtEQR8tn3GVHuIX3joiUfptrbV'\n",
    "\n",
    "auth = tweepy.OAuthHandler(consumer_key, consumer_secret)\n",
    "auth.set_access_token(access_token, access_secret)\n",
    "\n",
    "api = tweepy.API(auth, wait_on_rate_limit = True, wait_on_rate_limit_notify = True)"
   ]
  },
  {
   "cell_type": "markdown",
   "metadata": {},
   "source": [
    "### Writing a JSON file storing all the tweets"
   ]
  },
  {
   "cell_type": "code",
   "execution_count": null,
   "metadata": {},
   "outputs": [],
   "source": [
    "tweet = []\n",
    "tweet_dict = {\"tweet_id\" :[], \"tweet_status\" :[],\n",
    "              \"full_text\" :[], \"retweet_count\": [], \"favorite_count\" : []}\n",
    "for ids in enumerate(df.tweet_id):\n",
    "    try:\n",
    "        status = api.get_status(ids[1], tweet_mode='extended')\n",
    "        \n",
    "        tweet.append(status)\n",
    "        tweet_dict[\"tweet_status\"].append(status)\n",
    "        tweet_dict[\"tweet_id\"].append(status.id)\n",
    "        tweet_dict[\"full_text\"].append(status.full_text)\n",
    "        tweet_dict[\"retweet_count\"].append(status.retweet_count)\n",
    "        tweet_dict[\"favorite_count\"].append(status.favorite_count)\n",
    "    except:\n",
    "        pass"
   ]
  },
  {
   "cell_type": "markdown",
   "metadata": {},
   "source": [
    "### converting the created doctionary into a Pandas DataFrame"
   ]
  },
  {
   "cell_type": "code",
   "execution_count": null,
   "metadata": {},
   "outputs": [],
   "source": [
    "tweet_df = pd.DataFrame.from_dict(tweet_dict );"
   ]
  },
  {
   "cell_type": "markdown",
   "metadata": {},
   "source": [
    "#### Storing the Data Frame into a CSV file"
   ]
  },
  {
   "cell_type": "code",
   "execution_count": null,
   "metadata": {
    "scrolled": true
   },
   "outputs": [],
   "source": [
    "tweet_df.to_csv('tweet_df.csv')"
   ]
  },
  {
   "cell_type": "markdown",
   "metadata": {},
   "source": [
    "### Writing the Tweet Statuses into a txt file:"
   ]
  },
  {
   "cell_type": "code",
   "execution_count": null,
   "metadata": {},
   "outputs": [],
   "source": [
    "pd.DataFrame(tweet).to_csv(r'tweet_json.txt', header=None, index=None, sep=' ', mode='a')"
   ]
  },
  {
   "cell_type": "markdown",
   "metadata": {},
   "source": [
    "### Reading the JSON data from the \"tweet_json.txt\" into a DataFrame"
   ]
  },
  {
   "cell_type": "code",
   "execution_count": null,
   "metadata": {},
   "outputs": [],
   "source": [
    "json_df = pd.read_csv('tweet_json.txt', header = None)"
   ]
  },
  {
   "cell_type": "markdown",
   "metadata": {},
   "source": [
    "## Downloading the TSV file Programmatically"
   ]
  },
  {
   "cell_type": "code",
   "execution_count": null,
   "metadata": {},
   "outputs": [],
   "source": [
    "url = \"https://d17h27t6h515a5.cloudfront.net/topher/2017/August/599fd2ad_image-predictions/image-predictions.tsv\"\n",
    "\n",
    "response = requests.get(url)\n",
    "with open(\"image_predictions.tsv\", mode='wb') as file:\n",
    "        file.write(response.content)"
   ]
  },
  {
   "cell_type": "markdown",
   "metadata": {},
   "source": [
    "### Reading the TSV file into a DataFrame"
   ]
  },
  {
   "cell_type": "code",
   "execution_count": 511,
   "metadata": {},
   "outputs": [
    {
     "name": "stdout",
     "output_type": "stream",
     "text": [
      "<class 'pandas.core.frame.DataFrame'>\n",
      "RangeIndex: 2075 entries, 0 to 2074\n",
      "Data columns (total 12 columns):\n",
      "tweet_id    2075 non-null int64\n",
      "jpg_url     2075 non-null object\n",
      "img_num     2075 non-null int64\n",
      "p1          2075 non-null object\n",
      "p1_conf     2075 non-null float64\n",
      "p1_dog      2075 non-null bool\n",
      "p2          2075 non-null object\n",
      "p2_conf     2075 non-null float64\n",
      "p2_dog      2075 non-null bool\n",
      "p3          2075 non-null object\n",
      "p3_conf     2075 non-null float64\n",
      "p3_dog      2075 non-null bool\n",
      "dtypes: bool(3), float64(3), int64(2), object(4)\n",
      "memory usage: 152.1+ KB\n"
     ]
    }
   ],
   "source": [
    "df_immage = pd.read_csv('image_predictions.tsv', sep = '\\t')\n",
    "df_immage.info()"
   ]
  },
  {
   "cell_type": "code",
   "execution_count": null,
   "metadata": {},
   "outputs": [],
   "source": []
  },
  {
   "cell_type": "markdown",
   "metadata": {},
   "source": [
    "# Assessing Data"
   ]
  },
  {
   "cell_type": "markdown",
   "metadata": {},
   "source": [
    "## Assessing the Twitter Archive"
   ]
  },
  {
   "cell_type": "code",
   "execution_count": 3,
   "metadata": {},
   "outputs": [
    {
     "name": "stdout",
     "output_type": "stream",
     "text": [
      "<class 'pandas.core.frame.DataFrame'>\n",
      "RangeIndex: 2356 entries, 0 to 2355\n",
      "Data columns (total 17 columns):\n",
      "tweet_id                      2356 non-null int64\n",
      "in_reply_to_status_id         78 non-null float64\n",
      "in_reply_to_user_id           78 non-null float64\n",
      "timestamp                     2356 non-null object\n",
      "source                        2356 non-null object\n",
      "text                          2356 non-null object\n",
      "retweeted_status_id           181 non-null float64\n",
      "retweeted_status_user_id      181 non-null float64\n",
      "retweeted_status_timestamp    181 non-null object\n",
      "expanded_urls                 2297 non-null object\n",
      "rating_numerator              2356 non-null int64\n",
      "rating_denominator            2356 non-null int64\n",
      "name                          2356 non-null object\n",
      "doggo                         2356 non-null object\n",
      "floofer                       2356 non-null object\n",
      "pupper                        2356 non-null object\n",
      "puppo                         2356 non-null object\n",
      "dtypes: float64(4), int64(3), object(10)\n",
      "memory usage: 313.0+ KB\n"
     ]
    }
   ],
   "source": [
    "df = pd.read_csv('twitter-archive-enhanced.csv')\n",
    "df.info()"
   ]
  },
  {
   "cell_type": "code",
   "execution_count": null,
   "metadata": {},
   "outputs": [],
   "source": []
  },
  {
   "cell_type": "markdown",
   "metadata": {},
   "source": [
    "## <font color='red'>Issues within the Tweeter Archive DataFrame:</font>"
   ]
  },
  {
   "cell_type": "markdown",
   "metadata": {},
   "source": [
    "`Tidyness Issues`\n",
    "- T-1 ** denominator of 10 and the numerators could all be in one column**\n",
    "- T-2 ** dog stages need to be in one single column (doggo, floofer, pupper, puppo)**\n",
    "- T-3 ** it's not clear if the tweet is the original satus or a retweet of something else, so we need to add a column for Retweet (Yes/No)**\n",
    "\n",
    "\n",
    "`Quality Issues`\n",
    "- Q-1 ** too many NaNs in (in_reply_to_status_id, in_reply_to_user_id, retweeted_status_id, retweeted_status_user_id, retweeted_status_timestamp)**\n",
    "- Q-2 **source column is not clear and we need to extract the exact source like iPhone, etc.**\n",
    "- Q-3 **for Dos Stage and Name, for missing values, \"None\" is used rather than NaN**\n",
    "- Q-4 **timestamp is not standard, so we could change it to a standard format of Date-time**\n",
    "- Q-7 ** after replacing None with NaN, we see that a lot of Dog Stages are missing!**\n",
    "- Q-9 ** All other ID fileds are also need to be converted into String like `in_reply_to_status_id`**\n"
   ]
  },
  {
   "cell_type": "code",
   "execution_count": null,
   "metadata": {},
   "outputs": [],
   "source": []
  },
  {
   "cell_type": "markdown",
   "metadata": {},
   "source": [
    "## Assessing the Image Prediction DataFrame"
   ]
  },
  {
   "cell_type": "code",
   "execution_count": 8,
   "metadata": {},
   "outputs": [
    {
     "name": "stdout",
     "output_type": "stream",
     "text": [
      "<class 'pandas.core.frame.DataFrame'>\n",
      "RangeIndex: 2075 entries, 0 to 2074\n",
      "Data columns (total 12 columns):\n",
      "tweet_id    2075 non-null int64\n",
      "jpg_url     2075 non-null object\n",
      "img_num     2075 non-null int64\n",
      "p1          2075 non-null object\n",
      "p1_conf     2075 non-null float64\n",
      "p1_dog      2075 non-null bool\n",
      "p2          2075 non-null object\n",
      "p2_conf     2075 non-null float64\n",
      "p2_dog      2075 non-null bool\n",
      "p3          2075 non-null object\n",
      "p3_conf     2075 non-null float64\n",
      "p3_dog      2075 non-null bool\n",
      "dtypes: bool(3), float64(3), int64(2), object(4)\n",
      "memory usage: 152.1+ KB\n"
     ]
    }
   ],
   "source": [
    "df_image = pd.read_csv('image_predictions.tsv', sep = '\\t')\n",
    "df_image.info()"
   ]
  },
  {
   "cell_type": "code",
   "execution_count": 10,
   "metadata": {},
   "outputs": [
    {
     "data": {
      "text/html": [
       "<div>\n",
       "<style scoped>\n",
       "    .dataframe tbody tr th:only-of-type {\n",
       "        vertical-align: middle;\n",
       "    }\n",
       "\n",
       "    .dataframe tbody tr th {\n",
       "        vertical-align: top;\n",
       "    }\n",
       "\n",
       "    .dataframe thead th {\n",
       "        text-align: right;\n",
       "    }\n",
       "</style>\n",
       "<table border=\"1\" class=\"dataframe\">\n",
       "  <thead>\n",
       "    <tr style=\"text-align: right;\">\n",
       "      <th></th>\n",
       "      <th>tweet_id</th>\n",
       "      <th>jpg_url</th>\n",
       "      <th>img_num</th>\n",
       "      <th>p1</th>\n",
       "      <th>p1_conf</th>\n",
       "      <th>p1_dog</th>\n",
       "      <th>p2</th>\n",
       "      <th>p2_conf</th>\n",
       "      <th>p2_dog</th>\n",
       "      <th>p3</th>\n",
       "      <th>p3_conf</th>\n",
       "      <th>p3_dog</th>\n",
       "    </tr>\n",
       "  </thead>\n",
       "  <tbody>\n",
       "    <tr>\n",
       "      <th>319</th>\n",
       "      <td>671768281401958400</td>\n",
       "      <td>https://pbs.twimg.com/media/CVKZsHtWwAA6gPj.jpg</td>\n",
       "      <td>2</td>\n",
       "      <td>Chihuahua</td>\n",
       "      <td>0.500373</td>\n",
       "      <td>True</td>\n",
       "      <td>French_bulldog</td>\n",
       "      <td>0.112796</td>\n",
       "      <td>True</td>\n",
       "      <td>Italian_greyhound</td>\n",
       "      <td>0.062893</td>\n",
       "      <td>True</td>\n",
       "    </tr>\n",
       "    <tr>\n",
       "      <th>1695</th>\n",
       "      <td>816336735214911488</td>\n",
       "      <td>https://pbs.twimg.com/media/C1Q17WdWEAAjKFO.jpg</td>\n",
       "      <td>1</td>\n",
       "      <td>Labrador_retriever</td>\n",
       "      <td>0.919330</td>\n",
       "      <td>True</td>\n",
       "      <td>kuvasz</td>\n",
       "      <td>0.049480</td>\n",
       "      <td>True</td>\n",
       "      <td>golden_retriever</td>\n",
       "      <td>0.011934</td>\n",
       "      <td>True</td>\n",
       "    </tr>\n",
       "    <tr>\n",
       "      <th>350</th>\n",
       "      <td>672488522314567680</td>\n",
       "      <td>https://pbs.twimg.com/media/CVUovvHWwAAD-nu.jpg</td>\n",
       "      <td>1</td>\n",
       "      <td>Doberman</td>\n",
       "      <td>0.605358</td>\n",
       "      <td>True</td>\n",
       "      <td>Rottweiler</td>\n",
       "      <td>0.108382</td>\n",
       "      <td>True</td>\n",
       "      <td>Appenzeller</td>\n",
       "      <td>0.077798</td>\n",
       "      <td>True</td>\n",
       "    </tr>\n",
       "    <tr>\n",
       "      <th>982</th>\n",
       "      <td>707387676719185920</td>\n",
       "      <td>https://pbs.twimg.com/media/CdElVm7XEAADP6o.jpg</td>\n",
       "      <td>1</td>\n",
       "      <td>Chihuahua</td>\n",
       "      <td>0.888468</td>\n",
       "      <td>True</td>\n",
       "      <td>Italian_greyhound</td>\n",
       "      <td>0.088635</td>\n",
       "      <td>True</td>\n",
       "      <td>toy_terrier</td>\n",
       "      <td>0.015938</td>\n",
       "      <td>True</td>\n",
       "    </tr>\n",
       "    <tr>\n",
       "      <th>903</th>\n",
       "      <td>700062718104104960</td>\n",
       "      <td>https://pbs.twimg.com/media/CbcfUxoUAAAlHGK.jpg</td>\n",
       "      <td>1</td>\n",
       "      <td>hummingbird</td>\n",
       "      <td>0.180998</td>\n",
       "      <td>False</td>\n",
       "      <td>peacock</td>\n",
       "      <td>0.135179</td>\n",
       "      <td>False</td>\n",
       "      <td>eel</td>\n",
       "      <td>0.075371</td>\n",
       "      <td>False</td>\n",
       "    </tr>\n",
       "    <tr>\n",
       "      <th>1618</th>\n",
       "      <td>802572683846291456</td>\n",
       "      <td>https://pbs.twimg.com/media/CyNPmJgXcAECPuB.jpg</td>\n",
       "      <td>1</td>\n",
       "      <td>golden_retriever</td>\n",
       "      <td>0.610171</td>\n",
       "      <td>True</td>\n",
       "      <td>Labrador_retriever</td>\n",
       "      <td>0.173252</td>\n",
       "      <td>True</td>\n",
       "      <td>cocker_spaniel</td>\n",
       "      <td>0.163257</td>\n",
       "      <td>True</td>\n",
       "    </tr>\n",
       "    <tr>\n",
       "      <th>65</th>\n",
       "      <td>667174963120574464</td>\n",
       "      <td>https://pbs.twimg.com/media/CUJIFoJWsAAL3Dc.jpg</td>\n",
       "      <td>1</td>\n",
       "      <td>toy_poodle</td>\n",
       "      <td>0.266437</td>\n",
       "      <td>True</td>\n",
       "      <td>Chihuahua</td>\n",
       "      <td>0.243223</td>\n",
       "      <td>True</td>\n",
       "      <td>bluetick</td>\n",
       "      <td>0.072806</td>\n",
       "      <td>True</td>\n",
       "    </tr>\n",
       "    <tr>\n",
       "      <th>134</th>\n",
       "      <td>668484198282485761</td>\n",
       "      <td>https://pbs.twimg.com/media/CUbu1GAWsAEH3E-.jpg</td>\n",
       "      <td>1</td>\n",
       "      <td>standard_poodle</td>\n",
       "      <td>0.587372</td>\n",
       "      <td>True</td>\n",
       "      <td>Bedlington_terrier</td>\n",
       "      <td>0.182411</td>\n",
       "      <td>True</td>\n",
       "      <td>Afghan_hound</td>\n",
       "      <td>0.040968</td>\n",
       "      <td>True</td>\n",
       "    </tr>\n",
       "    <tr>\n",
       "      <th>823</th>\n",
       "      <td>693155686491000832</td>\n",
       "      <td>https://pbs.twimg.com/media/CZ6VatdWwAAwHly.jpg</td>\n",
       "      <td>3</td>\n",
       "      <td>Shih-Tzu</td>\n",
       "      <td>0.697480</td>\n",
       "      <td>True</td>\n",
       "      <td>Lhasa</td>\n",
       "      <td>0.200151</td>\n",
       "      <td>True</td>\n",
       "      <td>Tibetan_terrier</td>\n",
       "      <td>0.090970</td>\n",
       "      <td>True</td>\n",
       "    </tr>\n",
       "    <tr>\n",
       "      <th>758</th>\n",
       "      <td>688789766343622656</td>\n",
       "      <td>https://pbs.twimg.com/media/CY8SocAWsAARuyh.jpg</td>\n",
       "      <td>1</td>\n",
       "      <td>American_Staffordshire_terrier</td>\n",
       "      <td>0.599660</td>\n",
       "      <td>True</td>\n",
       "      <td>Staffordshire_bullterrier</td>\n",
       "      <td>0.380976</td>\n",
       "      <td>True</td>\n",
       "      <td>bull_mastiff</td>\n",
       "      <td>0.003889</td>\n",
       "      <td>True</td>\n",
       "    </tr>\n",
       "  </tbody>\n",
       "</table>\n",
       "</div>"
      ],
      "text/plain": [
       "                tweet_id                                          jpg_url  img_num                              p1   p1_conf  p1_dog                         p2   p2_conf  p2_dog                 p3   p3_conf  p3_dog\n",
       "319   671768281401958400  https://pbs.twimg.com/media/CVKZsHtWwAA6gPj.jpg        2                       Chihuahua  0.500373    True             French_bulldog  0.112796    True  Italian_greyhound  0.062893    True\n",
       "1695  816336735214911488  https://pbs.twimg.com/media/C1Q17WdWEAAjKFO.jpg        1              Labrador_retriever  0.919330    True                     kuvasz  0.049480    True   golden_retriever  0.011934    True\n",
       "350   672488522314567680  https://pbs.twimg.com/media/CVUovvHWwAAD-nu.jpg        1                        Doberman  0.605358    True                 Rottweiler  0.108382    True        Appenzeller  0.077798    True\n",
       "982   707387676719185920  https://pbs.twimg.com/media/CdElVm7XEAADP6o.jpg        1                       Chihuahua  0.888468    True          Italian_greyhound  0.088635    True        toy_terrier  0.015938    True\n",
       "903   700062718104104960  https://pbs.twimg.com/media/CbcfUxoUAAAlHGK.jpg        1                     hummingbird  0.180998   False                    peacock  0.135179   False                eel  0.075371   False\n",
       "1618  802572683846291456  https://pbs.twimg.com/media/CyNPmJgXcAECPuB.jpg        1                golden_retriever  0.610171    True         Labrador_retriever  0.173252    True     cocker_spaniel  0.163257    True\n",
       "65    667174963120574464  https://pbs.twimg.com/media/CUJIFoJWsAAL3Dc.jpg        1                      toy_poodle  0.266437    True                  Chihuahua  0.243223    True           bluetick  0.072806    True\n",
       "134   668484198282485761  https://pbs.twimg.com/media/CUbu1GAWsAEH3E-.jpg        1                 standard_poodle  0.587372    True         Bedlington_terrier  0.182411    True       Afghan_hound  0.040968    True\n",
       "823   693155686491000832  https://pbs.twimg.com/media/CZ6VatdWwAAwHly.jpg        3                        Shih-Tzu  0.697480    True                      Lhasa  0.200151    True    Tibetan_terrier  0.090970    True\n",
       "758   688789766343622656  https://pbs.twimg.com/media/CY8SocAWsAARuyh.jpg        1  American_Staffordshire_terrier  0.599660    True  Staffordshire_bullterrier  0.380976    True       bull_mastiff  0.003889    True"
      ]
     },
     "execution_count": 10,
     "metadata": {},
     "output_type": "execute_result"
    }
   ],
   "source": [
    "df_image.sample(10)"
   ]
  },
  {
   "cell_type": "code",
   "execution_count": 420,
   "metadata": {},
   "outputs": [],
   "source": [
    "df_image.p1.value_counts();"
   ]
  },
  {
   "cell_type": "markdown",
   "metadata": {},
   "source": [
    "## <font color='red'>Issues within the Image Prediction DataFrame:</font>"
   ]
  },
  {
   "cell_type": "markdown",
   "metadata": {},
   "source": [
    "`Tidyness Issues:`\n",
    "- T-4 **The Columns titles are not descriptive enough (img_num, p(1-3), p(1-3)_dog)**\n",
    "- T-5 **number of records for this DatFrame is not the same as the archive. It has 2075 records while he other has 2356 records**\n",
    "\n",
    "`quality Issues:`\n",
    "- Q-5 **Some of the photos are not dog (like the p1 says: hummingbird, p2: peacock, p3: eel)**\n",
    "- Q-6 **some of the names in the p1-p3 are not real dog breads (web-site, llama, tub, etc.)**\n",
    "\n",
    "\n",
    "\n"
   ]
  },
  {
   "cell_type": "code",
   "execution_count": null,
   "metadata": {},
   "outputs": [],
   "source": []
  },
  {
   "cell_type": "markdown",
   "metadata": {},
   "source": [
    "## Assessing the Tweet extra data - DataFrame"
   ]
  },
  {
   "cell_type": "code",
   "execution_count": 34,
   "metadata": {},
   "outputs": [
    {
     "name": "stdout",
     "output_type": "stream",
     "text": [
      "<class 'pandas.core.frame.DataFrame'>\n",
      "RangeIndex: 2345 entries, 0 to 2344\n",
      "Data columns (total 6 columns):\n",
      "Unnamed: 0        2345 non-null int64\n",
      "favorite_count    2345 non-null int64\n",
      "full_text         2345 non-null object\n",
      "retweet_count     2345 non-null int64\n",
      "tweet_id          2345 non-null int64\n",
      "tweet_status      2345 non-null object\n",
      "dtypes: int64(4), object(2)\n",
      "memory usage: 110.0+ KB\n"
     ]
    }
   ],
   "source": [
    "df_tweet = pd.read_csv('tweet_df.csv')\n",
    "df_tweet.info()"
   ]
  },
  {
   "cell_type": "code",
   "execution_count": 35,
   "metadata": {},
   "outputs": [
    {
     "data": {
      "text/html": [
       "<div>\n",
       "<style scoped>\n",
       "    .dataframe tbody tr th:only-of-type {\n",
       "        vertical-align: middle;\n",
       "    }\n",
       "\n",
       "    .dataframe tbody tr th {\n",
       "        vertical-align: top;\n",
       "    }\n",
       "\n",
       "    .dataframe thead th {\n",
       "        text-align: right;\n",
       "    }\n",
       "</style>\n",
       "<table border=\"1\" class=\"dataframe\">\n",
       "  <thead>\n",
       "    <tr style=\"text-align: right;\">\n",
       "      <th></th>\n",
       "      <th>Unnamed: 0</th>\n",
       "      <th>favorite_count</th>\n",
       "      <th>full_text</th>\n",
       "      <th>retweet_count</th>\n",
       "      <th>tweet_id</th>\n",
       "      <th>tweet_status</th>\n",
       "    </tr>\n",
       "  </thead>\n",
       "  <tbody>\n",
       "    <tr>\n",
       "      <th>0</th>\n",
       "      <td>0</td>\n",
       "      <td>38994</td>\n",
       "      <td>This is Phineas. He's a mystical boy. Only eve...</td>\n",
       "      <td>8653</td>\n",
       "      <td>892420643555336193</td>\n",
       "      <td>Status(truncated=False, _api=&lt;tweepy.api.API o...</td>\n",
       "    </tr>\n",
       "    <tr>\n",
       "      <th>1</th>\n",
       "      <td>1</td>\n",
       "      <td>33390</td>\n",
       "      <td>This is Tilly. She's just checking pup on you....</td>\n",
       "      <td>6355</td>\n",
       "      <td>892177421306343426</td>\n",
       "      <td>Status(truncated=False, _api=&lt;tweepy.api.API o...</td>\n",
       "    </tr>\n",
       "    <tr>\n",
       "      <th>2</th>\n",
       "      <td>2</td>\n",
       "      <td>25168</td>\n",
       "      <td>This is Archie. He is a rare Norwegian Pouncin...</td>\n",
       "      <td>4220</td>\n",
       "      <td>891815181378084864</td>\n",
       "      <td>Status(truncated=False, _api=&lt;tweepy.api.API o...</td>\n",
       "    </tr>\n",
       "    <tr>\n",
       "      <th>3</th>\n",
       "      <td>3</td>\n",
       "      <td>42347</td>\n",
       "      <td>This is Darla. She commenced a snooze mid meal...</td>\n",
       "      <td>8768</td>\n",
       "      <td>891689557279858688</td>\n",
       "      <td>Status(truncated=False, _api=&lt;tweepy.api.API o...</td>\n",
       "    </tr>\n",
       "    <tr>\n",
       "      <th>4</th>\n",
       "      <td>4</td>\n",
       "      <td>40514</td>\n",
       "      <td>This is Franklin. He would like you to stop ca...</td>\n",
       "      <td>9531</td>\n",
       "      <td>891327558926688256</td>\n",
       "      <td>Status(truncated=False, _api=&lt;tweepy.api.API o...</td>\n",
       "    </tr>\n",
       "  </tbody>\n",
       "</table>\n",
       "</div>"
      ],
      "text/plain": [
       "   Unnamed: 0  favorite_count                                          full_text  retweet_count            tweet_id                                       tweet_status\n",
       "0           0           38994  This is Phineas. He's a mystical boy. Only eve...           8653  892420643555336193  Status(truncated=False, _api=<tweepy.api.API o...\n",
       "1           1           33390  This is Tilly. She's just checking pup on you....           6355  892177421306343426  Status(truncated=False, _api=<tweepy.api.API o...\n",
       "2           2           25168  This is Archie. He is a rare Norwegian Pouncin...           4220  891815181378084864  Status(truncated=False, _api=<tweepy.api.API o...\n",
       "3           3           42347  This is Darla. She commenced a snooze mid meal...           8768  891689557279858688  Status(truncated=False, _api=<tweepy.api.API o...\n",
       "4           4           40514  This is Franklin. He would like you to stop ca...           9531  891327558926688256  Status(truncated=False, _api=<tweepy.api.API o..."
      ]
     },
     "execution_count": 35,
     "metadata": {},
     "output_type": "execute_result"
    }
   ],
   "source": [
    "df_tweet.head()"
   ]
  },
  {
   "cell_type": "code",
   "execution_count": 46,
   "metadata": {
    "scrolled": true
   },
   "outputs": [
    {
     "data": {
      "text/plain": [
       "\"This is Tilly. She's just checking pup on you. Hopes you're doing ok. If not, she's available for pats, snugs, boops, the whole bit. 13/10 https://t.co/0Xxu71qeIV\""
      ]
     },
     "execution_count": 46,
     "metadata": {},
     "output_type": "execute_result"
    }
   ],
   "source": [
    "df_tweet.full_text[1]"
   ]
  },
  {
   "cell_type": "markdown",
   "metadata": {},
   "source": [
    "## <font color='red'>Issues within the Tweet DataFrame:</font>"
   ]
  },
  {
   "cell_type": "markdown",
   "metadata": {},
   "source": [
    "`Tidyness Issues:`\n",
    "- T-6 **Columns are not optimally arranged**\n",
    "- T-7 **no need for Unnamed id column at the begining**\n",
    "- T-8 **Should merge 2 DataFrames (`Tweet_DataFrame` and `Tweeter_archive_enhaced`)**\n",
    "\n",
    "    \n",
    "`Quality Issues:`\n",
    "- Q-7 **full text contain some url and also rating which are irrelevant, need to be removed**\n",
    "- Q-8 **Tweet_id is in Integer form, needs to be string**"
   ]
  },
  {
   "cell_type": "code",
   "execution_count": null,
   "metadata": {},
   "outputs": [],
   "source": []
  },
  {
   "cell_type": "markdown",
   "metadata": {},
   "source": [
    "# Clean"
   ]
  },
  {
   "cell_type": "markdown",
   "metadata": {},
   "source": [
    "First we are going to create copies of the data Frames to work"
   ]
  },
  {
   "cell_type": "code",
   "execution_count": 55,
   "metadata": {},
   "outputs": [],
   "source": [
    "df_clean = df.copy()"
   ]
  },
  {
   "cell_type": "code",
   "execution_count": 48,
   "metadata": {},
   "outputs": [],
   "source": [
    "df_tweet_clean = df_tweet.copy()"
   ]
  },
  {
   "cell_type": "code",
   "execution_count": 468,
   "metadata": {},
   "outputs": [],
   "source": [
    "df_image_clean = df_image.copy()"
   ]
  },
  {
   "cell_type": "markdown",
   "metadata": {},
   "source": [
    "## Issue `Q3`"
   ]
  },
  {
   "cell_type": "markdown",
   "metadata": {},
   "source": [
    "### Define:\n",
    "We are going to replace `\"None\"` with NaN or Null (a missing value).\n",
    "\n",
    "will be working with __`df_clean`__"
   ]
  },
  {
   "cell_type": "markdown",
   "metadata": {},
   "source": [
    "## code:"
   ]
  },
  {
   "cell_type": "code",
   "execution_count": 61,
   "metadata": {},
   "outputs": [],
   "source": [
    "df_clean = df_clean.replace('None',np.NaN)"
   ]
  },
  {
   "cell_type": "markdown",
   "metadata": {},
   "source": [
    "## Test"
   ]
  },
  {
   "cell_type": "code",
   "execution_count": 62,
   "metadata": {},
   "outputs": [
    {
     "data": {
      "text/html": [
       "<div>\n",
       "<style scoped>\n",
       "    .dataframe tbody tr th:only-of-type {\n",
       "        vertical-align: middle;\n",
       "    }\n",
       "\n",
       "    .dataframe tbody tr th {\n",
       "        vertical-align: top;\n",
       "    }\n",
       "\n",
       "    .dataframe thead th {\n",
       "        text-align: right;\n",
       "    }\n",
       "</style>\n",
       "<table border=\"1\" class=\"dataframe\">\n",
       "  <thead>\n",
       "    <tr style=\"text-align: right;\">\n",
       "      <th></th>\n",
       "      <th>tweet_id</th>\n",
       "      <th>in_reply_to_status_id</th>\n",
       "      <th>in_reply_to_user_id</th>\n",
       "      <th>timestamp</th>\n",
       "      <th>source</th>\n",
       "      <th>text</th>\n",
       "      <th>retweeted_status_id</th>\n",
       "      <th>retweeted_status_user_id</th>\n",
       "      <th>retweeted_status_timestamp</th>\n",
       "      <th>expanded_urls</th>\n",
       "      <th>rating_numerator</th>\n",
       "      <th>rating_denominator</th>\n",
       "      <th>name</th>\n",
       "      <th>doggo</th>\n",
       "      <th>floofer</th>\n",
       "      <th>pupper</th>\n",
       "      <th>puppo</th>\n",
       "    </tr>\n",
       "  </thead>\n",
       "  <tbody>\n",
       "    <tr>\n",
       "      <th>1621</th>\n",
       "      <td>684926975086034944</td>\n",
       "      <td>NaN</td>\n",
       "      <td>NaN</td>\n",
       "      <td>2016-01-07 02:38:10 +0000</td>\n",
       "      <td>&lt;a href=\"http://twitter.com/download/iphone\" r...</td>\n",
       "      <td>Meet Bruiser &amp;amp; Charlie. They are the best ...</td>\n",
       "      <td>NaN</td>\n",
       "      <td>NaN</td>\n",
       "      <td>NaN</td>\n",
       "      <td>https://twitter.com/dog_rates/status/684926975...</td>\n",
       "      <td>11</td>\n",
       "      <td>10</td>\n",
       "      <td>Bruiser</td>\n",
       "      <td>NaN</td>\n",
       "      <td>NaN</td>\n",
       "      <td>NaN</td>\n",
       "      <td>NaN</td>\n",
       "    </tr>\n",
       "  </tbody>\n",
       "</table>\n",
       "</div>"
      ],
      "text/plain": [
       "                tweet_id  in_reply_to_status_id  in_reply_to_user_id                  timestamp                                             source                                               text  retweeted_status_id  retweeted_status_user_id retweeted_status_timestamp                                      expanded_urls  rating_numerator  rating_denominator     name doggo floofer pupper puppo\n",
       "1621  684926975086034944                    NaN                  NaN  2016-01-07 02:38:10 +0000  <a href=\"http://twitter.com/download/iphone\" r...  Meet Bruiser &amp; Charlie. They are the best ...                  NaN                       NaN                        NaN  https://twitter.com/dog_rates/status/684926975...                11                  10  Bruiser   NaN     NaN    NaN   NaN"
      ]
     },
     "execution_count": 62,
     "metadata": {},
     "output_type": "execute_result"
    }
   ],
   "source": [
    "df_clean.sample()"
   ]
  },
  {
   "cell_type": "code",
   "execution_count": 101,
   "metadata": {},
   "outputs": [
    {
     "name": "stdout",
     "output_type": "stream",
     "text": [
      "<class 'pandas.core.frame.DataFrame'>\n",
      "RangeIndex: 2356 entries, 0 to 2355\n",
      "Data columns (total 17 columns):\n",
      "tweet_id                      2356 non-null int64\n",
      "in_reply_to_status_id         78 non-null float64\n",
      "in_reply_to_user_id           78 non-null float64\n",
      "timestamp                     2356 non-null object\n",
      "source                        2356 non-null object\n",
      "text                          2356 non-null object\n",
      "retweeted_status_id           181 non-null float64\n",
      "retweeted_status_user_id      181 non-null float64\n",
      "retweeted_status_timestamp    181 non-null object\n",
      "expanded_urls                 2297 non-null object\n",
      "rating_numerator              2356 non-null int64\n",
      "rating_denominator            2356 non-null int64\n",
      "name                          1611 non-null object\n",
      "doggo                         97 non-null object\n",
      "floofer                       10 non-null object\n",
      "pupper                        257 non-null object\n",
      "puppo                         30 non-null object\n",
      "dtypes: float64(4), int64(3), object(10)\n",
      "memory usage: 313.0+ KB\n"
     ]
    }
   ],
   "source": [
    "df_clean.info()"
   ]
  },
  {
   "cell_type": "markdown",
   "metadata": {},
   "source": [
    "## Issue `Q7`"
   ]
  },
  {
   "cell_type": "markdown",
   "metadata": {},
   "source": [
    "### Define"
   ]
  },
  {
   "cell_type": "markdown",
   "metadata": {},
   "source": [
    "Now we have replaced the None with NaNs and we see that a lot of `Dog Stages` are missing.\n",
    "We are going to read the Tweet texts and see if we can find a mention of the dog stage.\n",
    "\n",
    "will be working with __`df_clean`__"
   ]
  },
  {
   "cell_type": "code",
   "execution_count": 110,
   "metadata": {},
   "outputs": [
    {
     "data": {
      "text/plain": [
       "418"
      ]
     },
     "execution_count": 110,
     "metadata": {},
     "output_type": "execute_result"
    }
   ],
   "source": [
    "len(df_clean[df_clean['text'].str.contains(\"doggo|puppo|floof|pupper\")])"
   ]
  },
  {
   "cell_type": "markdown",
   "metadata": {},
   "source": [
    "As we can see from the code above, there are 418 mentions of the words [doggo, puppo, floof, pupper]. So we need to:\n",
    "\n",
    "- first change the title of floofer to floof(er)\n",
    "- find the ones that are missing in the df file (418 - 394 = 24) are still left without a dog stage"
   ]
  },
  {
   "cell_type": "markdown",
   "metadata": {},
   "source": [
    "### Code"
   ]
  },
  {
   "cell_type": "markdown",
   "metadata": {},
   "source": [
    "create a list of all records in the `Original Data Farme` that have at least one of the `doggo,puppo,floof,pupper` titles in the fileds"
   ]
  },
  {
   "cell_type": "code",
   "execution_count": null,
   "metadata": {},
   "outputs": [],
   "source": []
  },
  {
   "cell_type": "code",
   "execution_count": 411,
   "metadata": {},
   "outputs": [],
   "source": [
    "df_clean[df_clean['text'].str.contains(\"doggo|puppo|floof|pupper\")];"
   ]
  },
  {
   "cell_type": "code",
   "execution_count": 154,
   "metadata": {},
   "outputs": [],
   "source": [
    "df_clean['dog_stage'] = df_clean['text'].str.extract('(doggo|puppo|floof|pupper)',expand=True)"
   ]
  },
  {
   "cell_type": "code",
   "execution_count": 412,
   "metadata": {},
   "outputs": [],
   "source": [
    "df_clean[df_clean['dog_stage'].notnull()];"
   ]
  },
  {
   "cell_type": "code",
   "execution_count": null,
   "metadata": {},
   "outputs": [],
   "source": []
  },
  {
   "cell_type": "markdown",
   "metadata": {},
   "source": [
    "**So we drop the 4 dog stage columns and replace it with one that we just created by extracting the `Dog Stage` from the text**"
   ]
  },
  {
   "cell_type": "code",
   "execution_count": null,
   "metadata": {},
   "outputs": [],
   "source": []
  },
  {
   "cell_type": "code",
   "execution_count": 171,
   "metadata": {},
   "outputs": [],
   "source": [
    "df_clean = df_clean.drop([\"doggo\", \"floofer\", \"pupper\", \"puppo\"], axis=1)"
   ]
  },
  {
   "cell_type": "markdown",
   "metadata": {},
   "source": [
    "### Issue `Q-9`"
   ]
  },
  {
   "cell_type": "markdown",
   "metadata": {},
   "source": [
    "The issue with all ID fields, they all need to be converted into `string`"
   ]
  },
  {
   "cell_type": "markdown",
   "metadata": {},
   "source": [
    "### Define"
   ]
  },
  {
   "cell_type": "markdown",
   "metadata": {},
   "source": [
    "We are going to change the type of the ID columns into String. These columns include:\n",
    "\n",
    "- tweet_id\n",
    "- in_reply_to_status_id\n",
    "- in_reply_to_user_id\n",
    "- retweeted_status_id\n",
    "- retweeted_status_user_id\n",
    "\n",
    "will be working with __`df_clean`"
   ]
  },
  {
   "cell_type": "markdown",
   "metadata": {},
   "source": [
    "### Code"
   ]
  },
  {
   "cell_type": "code",
   "execution_count": 197,
   "metadata": {},
   "outputs": [],
   "source": [
    "df_clean['tweet_id'] = df_clean['tweet_id'].fillna(0.0)\n",
    "df_clean['in_reply_to_status_id'] = df_clean['in_reply_to_status_id'].fillna(0.0)\n",
    "df_clean['in_reply_to_user_id'] = df_clean['in_reply_to_user_id'].fillna(0.0)\n",
    "df_clean['retweeted_status_id'] = df_clean['retweeted_status_id'].fillna(0.0)\n",
    "df_clean['retweeted_status_user_id'] = df_clean['retweeted_status_user_id'].fillna(0.0)"
   ]
  },
  {
   "cell_type": "code",
   "execution_count": 198,
   "metadata": {},
   "outputs": [
    {
     "name": "stdout",
     "output_type": "stream",
     "text": [
      "<class 'pandas.core.frame.DataFrame'>\n",
      "RangeIndex: 2356 entries, 0 to 2355\n",
      "Data columns (total 14 columns):\n",
      "tweet_id                      2356 non-null int64\n",
      "in_reply_to_status_id         2356 non-null float64\n",
      "in_reply_to_user_id           2356 non-null float64\n",
      "timestamp                     2356 non-null object\n",
      "source                        2356 non-null object\n",
      "text                          2356 non-null object\n",
      "retweeted_status_id           2356 non-null float64\n",
      "retweeted_status_user_id      2356 non-null float64\n",
      "retweeted_status_timestamp    181 non-null object\n",
      "expanded_urls                 2297 non-null object\n",
      "rating_numerator              2356 non-null int64\n",
      "rating_denominator            2356 non-null int64\n",
      "name                          1611 non-null object\n",
      "dog_stage                     418 non-null object\n",
      "dtypes: float64(4), int64(3), object(7)\n",
      "memory usage: 257.8+ KB\n"
     ]
    }
   ],
   "source": [
    "df_clean.info()"
   ]
  },
  {
   "cell_type": "code",
   "execution_count": 199,
   "metadata": {},
   "outputs": [],
   "source": [
    "df_clean['tweet_id'] = df_clean['tweet_id'].astype('int64')\n",
    "df_clean['in_reply_to_status_id'] = df_clean['in_reply_to_status_id'].astype('int64')\n",
    "df_clean['in_reply_to_user_id'] = df_clean['in_reply_to_user_id'].astype('int64')\n",
    "df_clean['retweeted_status_id'] = df_clean['retweeted_status_id'].astype('int64')\n",
    "df_clean['retweeted_status_user_id'] = df_clean['retweeted_status_user_id'].astype('int64')"
   ]
  },
  {
   "cell_type": "code",
   "execution_count": 200,
   "metadata": {},
   "outputs": [
    {
     "name": "stdout",
     "output_type": "stream",
     "text": [
      "<class 'pandas.core.frame.DataFrame'>\n",
      "RangeIndex: 2356 entries, 0 to 2355\n",
      "Data columns (total 14 columns):\n",
      "tweet_id                      2356 non-null int64\n",
      "in_reply_to_status_id         2356 non-null int64\n",
      "in_reply_to_user_id           2356 non-null int64\n",
      "timestamp                     2356 non-null object\n",
      "source                        2356 non-null object\n",
      "text                          2356 non-null object\n",
      "retweeted_status_id           2356 non-null int64\n",
      "retweeted_status_user_id      2356 non-null int64\n",
      "retweeted_status_timestamp    181 non-null object\n",
      "expanded_urls                 2297 non-null object\n",
      "rating_numerator              2356 non-null int64\n",
      "rating_denominator            2356 non-null int64\n",
      "name                          1611 non-null object\n",
      "dog_stage                     418 non-null object\n",
      "dtypes: int64(7), object(7)\n",
      "memory usage: 257.8+ KB\n"
     ]
    }
   ],
   "source": [
    "df_clean.info()"
   ]
  },
  {
   "cell_type": "code",
   "execution_count": 202,
   "metadata": {},
   "outputs": [],
   "source": [
    "df_clean['tweet_id'] = df_clean['tweet_id'].astype('str')\n",
    "df_clean['in_reply_to_status_id'] = df_clean['in_reply_to_status_id'].astype('str')\n",
    "df_clean['in_reply_to_user_id'] = df_clean['in_reply_to_user_id'].astype('str')\n",
    "df_clean['retweeted_status_id'] = df_clean['retweeted_status_id'].astype('str')\n",
    "df_clean['retweeted_status_user_id'] = df_clean['retweeted_status_user_id'].astype('str')"
   ]
  },
  {
   "cell_type": "markdown",
   "metadata": {},
   "source": [
    "Replacing the remaining 0s with NaN"
   ]
  },
  {
   "cell_type": "code",
   "execution_count": 211,
   "metadata": {},
   "outputs": [],
   "source": [
    "df_clean['tweet_id'] = df_clean['tweet_id'].replace('0', np.NaN)\n",
    "df_clean['in_reply_to_status_id'] = df_clean['in_reply_to_status_id'].replace('0', np.NaN)\n",
    "df_clean['in_reply_to_user_id'] = df_clean['in_reply_to_user_id'].replace('0', np.NaN)\n",
    "df_clean['retweeted_status_id'] = df_clean['retweeted_status_id'].replace('0', np.NaN)\n",
    "df_clean['retweeted_status_user_id'] = df_clean['retweeted_status_user_id'].replace('0', np.NaN)"
   ]
  },
  {
   "cell_type": "markdown",
   "metadata": {},
   "source": [
    "### test"
   ]
  },
  {
   "cell_type": "code",
   "execution_count": 212,
   "metadata": {},
   "outputs": [
    {
     "name": "stdout",
     "output_type": "stream",
     "text": [
      "<class 'pandas.core.frame.DataFrame'>\n",
      "RangeIndex: 2356 entries, 0 to 2355\n",
      "Data columns (total 14 columns):\n",
      "tweet_id                      2356 non-null object\n",
      "in_reply_to_status_id         78 non-null object\n",
      "in_reply_to_user_id           78 non-null object\n",
      "timestamp                     2356 non-null object\n",
      "source                        2356 non-null object\n",
      "text                          2356 non-null object\n",
      "retweeted_status_id           181 non-null object\n",
      "retweeted_status_user_id      181 non-null object\n",
      "retweeted_status_timestamp    181 non-null object\n",
      "expanded_urls                 2297 non-null object\n",
      "rating_numerator              2356 non-null int64\n",
      "rating_denominator            2356 non-null int64\n",
      "name                          1611 non-null object\n",
      "dog_stage                     418 non-null object\n",
      "dtypes: int64(2), object(12)\n",
      "memory usage: 257.8+ KB\n"
     ]
    }
   ],
   "source": [
    "df_clean.info()"
   ]
  },
  {
   "cell_type": "code",
   "execution_count": 213,
   "metadata": {},
   "outputs": [
    {
     "data": {
      "text/html": [
       "<div>\n",
       "<style scoped>\n",
       "    .dataframe tbody tr th:only-of-type {\n",
       "        vertical-align: middle;\n",
       "    }\n",
       "\n",
       "    .dataframe tbody tr th {\n",
       "        vertical-align: top;\n",
       "    }\n",
       "\n",
       "    .dataframe thead th {\n",
       "        text-align: right;\n",
       "    }\n",
       "</style>\n",
       "<table border=\"1\" class=\"dataframe\">\n",
       "  <thead>\n",
       "    <tr style=\"text-align: right;\">\n",
       "      <th></th>\n",
       "      <th>tweet_id</th>\n",
       "      <th>in_reply_to_status_id</th>\n",
       "      <th>in_reply_to_user_id</th>\n",
       "      <th>timestamp</th>\n",
       "      <th>source</th>\n",
       "      <th>text</th>\n",
       "      <th>retweeted_status_id</th>\n",
       "      <th>retweeted_status_user_id</th>\n",
       "      <th>retweeted_status_timestamp</th>\n",
       "      <th>expanded_urls</th>\n",
       "      <th>rating_numerator</th>\n",
       "      <th>rating_denominator</th>\n",
       "      <th>name</th>\n",
       "      <th>dog_stage</th>\n",
       "    </tr>\n",
       "  </thead>\n",
       "  <tbody>\n",
       "    <tr>\n",
       "      <th>0</th>\n",
       "      <td>892420643555336193</td>\n",
       "      <td>NaN</td>\n",
       "      <td>NaN</td>\n",
       "      <td>2017-08-01 16:23:56 +0000</td>\n",
       "      <td>&lt;a href=\"http://twitter.com/download/iphone\" r...</td>\n",
       "      <td>This is Phineas. He's a mystical boy. Only eve...</td>\n",
       "      <td>NaN</td>\n",
       "      <td>NaN</td>\n",
       "      <td>NaN</td>\n",
       "      <td>https://twitter.com/dog_rates/status/892420643...</td>\n",
       "      <td>13</td>\n",
       "      <td>10</td>\n",
       "      <td>Phineas</td>\n",
       "      <td>NaN</td>\n",
       "    </tr>\n",
       "    <tr>\n",
       "      <th>1</th>\n",
       "      <td>892177421306343426</td>\n",
       "      <td>NaN</td>\n",
       "      <td>NaN</td>\n",
       "      <td>2017-08-01 00:17:27 +0000</td>\n",
       "      <td>&lt;a href=\"http://twitter.com/download/iphone\" r...</td>\n",
       "      <td>This is Tilly. She's just checking pup on you....</td>\n",
       "      <td>NaN</td>\n",
       "      <td>NaN</td>\n",
       "      <td>NaN</td>\n",
       "      <td>https://twitter.com/dog_rates/status/892177421...</td>\n",
       "      <td>13</td>\n",
       "      <td>10</td>\n",
       "      <td>Tilly</td>\n",
       "      <td>NaN</td>\n",
       "    </tr>\n",
       "    <tr>\n",
       "      <th>2</th>\n",
       "      <td>891815181378084864</td>\n",
       "      <td>NaN</td>\n",
       "      <td>NaN</td>\n",
       "      <td>2017-07-31 00:18:03 +0000</td>\n",
       "      <td>&lt;a href=\"http://twitter.com/download/iphone\" r...</td>\n",
       "      <td>This is Archie. He is a rare Norwegian Pouncin...</td>\n",
       "      <td>NaN</td>\n",
       "      <td>NaN</td>\n",
       "      <td>NaN</td>\n",
       "      <td>https://twitter.com/dog_rates/status/891815181...</td>\n",
       "      <td>12</td>\n",
       "      <td>10</td>\n",
       "      <td>Archie</td>\n",
       "      <td>NaN</td>\n",
       "    </tr>\n",
       "    <tr>\n",
       "      <th>3</th>\n",
       "      <td>891689557279858688</td>\n",
       "      <td>NaN</td>\n",
       "      <td>NaN</td>\n",
       "      <td>2017-07-30 15:58:51 +0000</td>\n",
       "      <td>&lt;a href=\"http://twitter.com/download/iphone\" r...</td>\n",
       "      <td>This is Darla. She commenced a snooze mid meal...</td>\n",
       "      <td>NaN</td>\n",
       "      <td>NaN</td>\n",
       "      <td>NaN</td>\n",
       "      <td>https://twitter.com/dog_rates/status/891689557...</td>\n",
       "      <td>13</td>\n",
       "      <td>10</td>\n",
       "      <td>Darla</td>\n",
       "      <td>NaN</td>\n",
       "    </tr>\n",
       "    <tr>\n",
       "      <th>4</th>\n",
       "      <td>891327558926688256</td>\n",
       "      <td>NaN</td>\n",
       "      <td>NaN</td>\n",
       "      <td>2017-07-29 16:00:24 +0000</td>\n",
       "      <td>&lt;a href=\"http://twitter.com/download/iphone\" r...</td>\n",
       "      <td>This is Franklin. He would like you to stop ca...</td>\n",
       "      <td>NaN</td>\n",
       "      <td>NaN</td>\n",
       "      <td>NaN</td>\n",
       "      <td>https://twitter.com/dog_rates/status/891327558...</td>\n",
       "      <td>12</td>\n",
       "      <td>10</td>\n",
       "      <td>Franklin</td>\n",
       "      <td>NaN</td>\n",
       "    </tr>\n",
       "  </tbody>\n",
       "</table>\n",
       "</div>"
      ],
      "text/plain": [
       "             tweet_id in_reply_to_status_id in_reply_to_user_id                  timestamp                                             source                                               text retweeted_status_id retweeted_status_user_id retweeted_status_timestamp                                      expanded_urls  rating_numerator  rating_denominator      name dog_stage\n",
       "0  892420643555336193                   NaN                 NaN  2017-08-01 16:23:56 +0000  <a href=\"http://twitter.com/download/iphone\" r...  This is Phineas. He's a mystical boy. Only eve...                 NaN                      NaN                        NaN  https://twitter.com/dog_rates/status/892420643...                13                  10   Phineas       NaN\n",
       "1  892177421306343426                   NaN                 NaN  2017-08-01 00:17:27 +0000  <a href=\"http://twitter.com/download/iphone\" r...  This is Tilly. She's just checking pup on you....                 NaN                      NaN                        NaN  https://twitter.com/dog_rates/status/892177421...                13                  10     Tilly       NaN\n",
       "2  891815181378084864                   NaN                 NaN  2017-07-31 00:18:03 +0000  <a href=\"http://twitter.com/download/iphone\" r...  This is Archie. He is a rare Norwegian Pouncin...                 NaN                      NaN                        NaN  https://twitter.com/dog_rates/status/891815181...                12                  10    Archie       NaN\n",
       "3  891689557279858688                   NaN                 NaN  2017-07-30 15:58:51 +0000  <a href=\"http://twitter.com/download/iphone\" r...  This is Darla. She commenced a snooze mid meal...                 NaN                      NaN                        NaN  https://twitter.com/dog_rates/status/891689557...                13                  10     Darla       NaN\n",
       "4  891327558926688256                   NaN                 NaN  2017-07-29 16:00:24 +0000  <a href=\"http://twitter.com/download/iphone\" r...  This is Franklin. He would like you to stop ca...                 NaN                      NaN                        NaN  https://twitter.com/dog_rates/status/891327558...                12                  10  Franklin       NaN"
      ]
     },
     "execution_count": 213,
     "metadata": {},
     "output_type": "execute_result"
    }
   ],
   "source": [
    "df_clean.head()"
   ]
  },
  {
   "cell_type": "code",
   "execution_count": null,
   "metadata": {},
   "outputs": [],
   "source": []
  },
  {
   "cell_type": "markdown",
   "metadata": {},
   "source": [
    "## Issue `T3`"
   ]
  },
  {
   "cell_type": "markdown",
   "metadata": {},
   "source": [
    "The issue with not knowing which one is `Retweet` which ones are original status!"
   ]
  },
  {
   "cell_type": "markdown",
   "metadata": {},
   "source": [
    "### Define"
   ]
  },
  {
   "cell_type": "markdown",
   "metadata": {},
   "source": [
    "We are going to make a column titled **`Retweet`** and then assign True and False to it\n",
    "\n",
    "will be working with __`df_clean_1`__"
   ]
  },
  {
   "cell_type": "code",
   "execution_count": 415,
   "metadata": {},
   "outputs": [],
   "source": [
    "df_clean_1 = df_clean.copy()"
   ]
  },
  {
   "cell_type": "code",
   "execution_count": 416,
   "metadata": {},
   "outputs": [
    {
     "data": {
      "text/plain": [
       "Index(['tweet_id', 'in_reply_to_status_id', 'in_reply_to_user_id', 'timestamp', 'source', 'text', 'retweeted_status_id', 'retweeted_status_user_id', 'retweeted_status_timestamp', 'expanded_urls', 'rating_numerator', 'rating_denominator', 'name', 'dog_stage'], dtype='object')"
      ]
     },
     "execution_count": 416,
     "metadata": {},
     "output_type": "execute_result"
    }
   ],
   "source": [
    "df_clean_1.columns"
   ]
  },
  {
   "cell_type": "code",
   "execution_count": 417,
   "metadata": {},
   "outputs": [],
   "source": [
    "df_clean_1[df_clean_1['retweeted_status_user_id'].notnull()];"
   ]
  },
  {
   "cell_type": "markdown",
   "metadata": {},
   "source": [
    "### code"
   ]
  },
  {
   "cell_type": "code",
   "execution_count": 345,
   "metadata": {},
   "outputs": [],
   "source": [
    "index = df_clean_1['retweeted_status_id'].index[df_clean_1['retweeted_status_id'].notnull()]\n",
    "df_clean_1 = df_clean_1.drop(index)"
   ]
  },
  {
   "cell_type": "code",
   "execution_count": 346,
   "metadata": {},
   "outputs": [
    {
     "data": {
      "text/plain": [
       "Series([], Name: retweeted_status_id, dtype: int64)"
      ]
     },
     "execution_count": 346,
     "metadata": {},
     "output_type": "execute_result"
    }
   ],
   "source": [
    "df_clean_1['retweeted_status_id'].value_counts()"
   ]
  },
  {
   "cell_type": "markdown",
   "metadata": {},
   "source": [
    " <font color='red'>So, as we see above, we have `2175 records` left after we remove the retweets. What we are left with  are all `original statuses`.</font>"
   ]
  },
  {
   "cell_type": "markdown",
   "metadata": {},
   "source": [
    "__So we drop the 3 columns related to `Retweets`. These columns are:__\n",
    "- retweeted_status_id\n",
    "- retweeted_status_user_id\n",
    "- retweeted_status_timestamp"
   ]
  },
  {
   "cell_type": "code",
   "execution_count": 347,
   "metadata": {},
   "outputs": [],
   "source": [
    "df_clean_1 = df_clean_1.drop(columns=['retweeted_status_id', 'retweeted_status_user_id',\n",
    "                                     'retweeted_status_timestamp'])"
   ]
  },
  {
   "cell_type": "markdown",
   "metadata": {},
   "source": [
    "### Test"
   ]
  },
  {
   "cell_type": "code",
   "execution_count": 348,
   "metadata": {},
   "outputs": [
    {
     "data": {
      "text/html": [
       "<div>\n",
       "<style scoped>\n",
       "    .dataframe tbody tr th:only-of-type {\n",
       "        vertical-align: middle;\n",
       "    }\n",
       "\n",
       "    .dataframe tbody tr th {\n",
       "        vertical-align: top;\n",
       "    }\n",
       "\n",
       "    .dataframe thead th {\n",
       "        text-align: right;\n",
       "    }\n",
       "</style>\n",
       "<table border=\"1\" class=\"dataframe\">\n",
       "  <thead>\n",
       "    <tr style=\"text-align: right;\">\n",
       "      <th></th>\n",
       "      <th>tweet_id</th>\n",
       "      <th>in_reply_to_status_id</th>\n",
       "      <th>in_reply_to_user_id</th>\n",
       "      <th>timestamp</th>\n",
       "      <th>source</th>\n",
       "      <th>text</th>\n",
       "      <th>expanded_urls</th>\n",
       "      <th>rating_numerator</th>\n",
       "      <th>rating_denominator</th>\n",
       "      <th>name</th>\n",
       "      <th>dog_stage</th>\n",
       "    </tr>\n",
       "  </thead>\n",
       "  <tbody>\n",
       "    <tr>\n",
       "      <th>2191</th>\n",
       "      <td>668955713004314625</td>\n",
       "      <td>NaN</td>\n",
       "      <td>NaN</td>\n",
       "      <td>2015-11-24 00:54:05 +0000</td>\n",
       "      <td>&lt;a href=\"http://twitter.com/download/iphone\" r...</td>\n",
       "      <td>This is a Slovakian Helter Skelter Feta named ...</td>\n",
       "      <td>https://twitter.com/dog_rates/status/668955713...</td>\n",
       "      <td>10</td>\n",
       "      <td>10</td>\n",
       "      <td>a</td>\n",
       "      <td>NaN</td>\n",
       "    </tr>\n",
       "  </tbody>\n",
       "</table>\n",
       "</div>"
      ],
      "text/plain": [
       "                tweet_id in_reply_to_status_id in_reply_to_user_id                  timestamp                                             source                                               text                                      expanded_urls  rating_numerator  rating_denominator name dog_stage\n",
       "2191  668955713004314625                   NaN                 NaN  2015-11-24 00:54:05 +0000  <a href=\"http://twitter.com/download/iphone\" r...  This is a Slovakian Helter Skelter Feta named ...  https://twitter.com/dog_rates/status/668955713...                10                  10    a       NaN"
      ]
     },
     "execution_count": 348,
     "metadata": {},
     "output_type": "execute_result"
    }
   ],
   "source": [
    "df_clean_1.sample()"
   ]
  },
  {
   "cell_type": "code",
   "execution_count": null,
   "metadata": {},
   "outputs": [],
   "source": []
  },
  {
   "cell_type": "markdown",
   "metadata": {},
   "source": [
    "## Issue `T-1`"
   ]
  },
  {
   "cell_type": "markdown",
   "metadata": {},
   "source": [
    "The issue with the `denominators and numerators`.\n",
    "\n",
    "will be working with `df_clean_1`"
   ]
  },
  {
   "cell_type": "markdown",
   "metadata": {},
   "source": [
    "### Define"
   ]
  },
  {
   "cell_type": "markdown",
   "metadata": {},
   "source": [
    "We need to create one _`single rate`_ and put it in **`one single column`**."
   ]
  },
  {
   "cell_type": "markdown",
   "metadata": {},
   "source": [
    "### code"
   ]
  },
  {
   "cell_type": "code",
   "execution_count": 349,
   "metadata": {},
   "outputs": [
    {
     "name": "stdout",
     "output_type": "stream",
     "text": [
      "<class 'pandas.core.frame.DataFrame'>\n",
      "Int64Index: 2175 entries, 0 to 2355\n",
      "Data columns (total 11 columns):\n",
      "tweet_id                 2175 non-null object\n",
      "in_reply_to_status_id    78 non-null object\n",
      "in_reply_to_user_id      78 non-null object\n",
      "timestamp                2175 non-null object\n",
      "source                   2175 non-null object\n",
      "text                     2175 non-null object\n",
      "expanded_urls            2117 non-null object\n",
      "rating_numerator         2175 non-null int64\n",
      "rating_denominator       2175 non-null int64\n",
      "name                     1495 non-null object\n",
      "dog_stage                383 non-null object\n",
      "dtypes: int64(2), object(9)\n",
      "memory usage: 203.9+ KB\n"
     ]
    }
   ],
   "source": [
    "df_clean_1.info()"
   ]
  },
  {
   "cell_type": "code",
   "execution_count": 350,
   "metadata": {},
   "outputs": [],
   "source": [
    "df_clean_1['rating'] = (df_clean_1['rating_numerator'] / df_clean_1['rating_denominator'])"
   ]
  },
  {
   "cell_type": "code",
   "execution_count": 351,
   "metadata": {},
   "outputs": [],
   "source": [
    "df_clean_1 = df_clean_1.drop(columns=['rating_numerator', 'rating_denominator'])"
   ]
  },
  {
   "cell_type": "markdown",
   "metadata": {},
   "source": [
    "### test"
   ]
  },
  {
   "cell_type": "code",
   "execution_count": 352,
   "metadata": {},
   "outputs": [
    {
     "name": "stdout",
     "output_type": "stream",
     "text": [
      "<class 'pandas.core.frame.DataFrame'>\n",
      "Int64Index: 2175 entries, 0 to 2355\n",
      "Data columns (total 10 columns):\n",
      "tweet_id                 2175 non-null object\n",
      "in_reply_to_status_id    78 non-null object\n",
      "in_reply_to_user_id      78 non-null object\n",
      "timestamp                2175 non-null object\n",
      "source                   2175 non-null object\n",
      "text                     2175 non-null object\n",
      "expanded_urls            2117 non-null object\n",
      "name                     1495 non-null object\n",
      "dog_stage                383 non-null object\n",
      "rating                   2175 non-null float64\n",
      "dtypes: float64(1), object(9)\n",
      "memory usage: 186.9+ KB\n"
     ]
    }
   ],
   "source": [
    "df_clean_1.info()"
   ]
  },
  {
   "cell_type": "code",
   "execution_count": null,
   "metadata": {},
   "outputs": [],
   "source": []
  },
  {
   "cell_type": "markdown",
   "metadata": {},
   "source": [
    "## Issue `Q-2`"
   ]
  },
  {
   "cell_type": "markdown",
   "metadata": {},
   "source": [
    "**`source column` is not clear and we need to extract the exact source like iPhone, etc.**"
   ]
  },
  {
   "cell_type": "markdown",
   "metadata": {},
   "source": [
    "### Define"
   ]
  },
  {
   "cell_type": "markdown",
   "metadata": {},
   "source": [
    "we need to evaluate how many different sources there are and how we could extract them from the source column.\n",
    "\n",
    "will be working with `df_clean_1`"
   ]
  },
  {
   "cell_type": "markdown",
   "metadata": {},
   "source": [
    "### code"
   ]
  },
  {
   "cell_type": "code",
   "execution_count": 353,
   "metadata": {},
   "outputs": [
    {
     "data": {
      "text/plain": [
       "<a href=\"http://twitter.com/download/iphone\" rel=\"nofollow\">Twitter for iPhone</a>     2042\n",
       "<a href=\"http://vine.co\" rel=\"nofollow\">Vine - Make a Scene</a>                          91\n",
       "<a href=\"http://twitter.com\" rel=\"nofollow\">Twitter Web Client</a>                       31\n",
       "<a href=\"https://about.twitter.com/products/tweetdeck\" rel=\"nofollow\">TweetDeck</a>      11\n",
       "Name: source, dtype: int64"
      ]
     },
     "execution_count": 353,
     "metadata": {},
     "output_type": "execute_result"
    }
   ],
   "source": [
    "df_clean_1['source'].value_counts()"
   ]
  },
  {
   "cell_type": "code",
   "execution_count": null,
   "metadata": {},
   "outputs": [],
   "source": []
  },
  {
   "cell_type": "markdown",
   "metadata": {},
   "source": [
    "So, as we can see above there are only `4 different sources`:\n",
    "\n",
    "- `Twitter for iPhone`\n",
    "- `Vine`\n",
    "- `Twitter Web Client`\n",
    "- `TweetDeck`"
   ]
  },
  {
   "cell_type": "code",
   "execution_count": 354,
   "metadata": {},
   "outputs": [],
   "source": [
    "df_clean_1['source'] = df_clean_1['source'].str.extract('(iPhone|Vine|Web|tweetdeck)',expand=True)"
   ]
  },
  {
   "cell_type": "markdown",
   "metadata": {},
   "source": [
    "### test"
   ]
  },
  {
   "cell_type": "code",
   "execution_count": 355,
   "metadata": {},
   "outputs": [
    {
     "data": {
      "text/plain": [
       "iPhone       2042\n",
       "Vine           91\n",
       "Web            31\n",
       "tweetdeck      11\n",
       "Name: source, dtype: int64"
      ]
     },
     "execution_count": 355,
     "metadata": {},
     "output_type": "execute_result"
    }
   ],
   "source": [
    "df_clean_1['source'].value_counts()"
   ]
  },
  {
   "cell_type": "code",
   "execution_count": 356,
   "metadata": {},
   "outputs": [
    {
     "name": "stdout",
     "output_type": "stream",
     "text": [
      "<class 'pandas.core.frame.DataFrame'>\n",
      "Int64Index: 2175 entries, 0 to 2355\n",
      "Data columns (total 10 columns):\n",
      "tweet_id                 2175 non-null object\n",
      "in_reply_to_status_id    78 non-null object\n",
      "in_reply_to_user_id      78 non-null object\n",
      "timestamp                2175 non-null object\n",
      "source                   2175 non-null object\n",
      "text                     2175 non-null object\n",
      "expanded_urls            2117 non-null object\n",
      "name                     1495 non-null object\n",
      "dog_stage                383 non-null object\n",
      "rating                   2175 non-null float64\n",
      "dtypes: float64(1), object(9)\n",
      "memory usage: 186.9+ KB\n"
     ]
    }
   ],
   "source": [
    "df_clean_1.info()"
   ]
  },
  {
   "cell_type": "code",
   "execution_count": null,
   "metadata": {},
   "outputs": [],
   "source": []
  },
  {
   "cell_type": "markdown",
   "metadata": {},
   "source": [
    "## Issue `Q-4`"
   ]
  },
  {
   "cell_type": "markdown",
   "metadata": {},
   "source": [
    "**`timestamp`** is not standard, so we could change it to a standard format of Date-time"
   ]
  },
  {
   "cell_type": "markdown",
   "metadata": {},
   "source": [
    "### Define"
   ]
  },
  {
   "cell_type": "markdown",
   "metadata": {},
   "source": [
    "Convert `timestamp` into a correctly formatted date-time column\n",
    "\n",
    "will be working with `df_clean_2`"
   ]
  },
  {
   "cell_type": "markdown",
   "metadata": {},
   "source": [
    "### code"
   ]
  },
  {
   "cell_type": "markdown",
   "metadata": {},
   "source": [
    "First we need to strip the `\"+0000\"` from the values"
   ]
  },
  {
   "cell_type": "code",
   "execution_count": 370,
   "metadata": {},
   "outputs": [],
   "source": [
    "df_clean_2 = df_clean_1.copy()"
   ]
  },
  {
   "cell_type": "code",
   "execution_count": 371,
   "metadata": {},
   "outputs": [],
   "source": [
    "df_clean_2['timestamp'] = df_clean_2['timestamp'].str.strip(\" +0000\")"
   ]
  },
  {
   "cell_type": "code",
   "execution_count": 372,
   "metadata": {},
   "outputs": [
    {
     "data": {
      "text/plain": [
       "1031    2016-06-22 01:06:43\n",
       "Name: timestamp, dtype: object"
      ]
     },
     "execution_count": 372,
     "metadata": {},
     "output_type": "execute_result"
    }
   ],
   "source": [
    "df_clean_2['timestamp'].sample()"
   ]
  },
  {
   "cell_type": "code",
   "execution_count": null,
   "metadata": {},
   "outputs": [],
   "source": []
  },
  {
   "cell_type": "markdown",
   "metadata": {},
   "source": [
    "<font color='red'>**We need to remove the `Second` part of the time, as we have multiple different formats. The best way to deal with it, is to remove the second portion of the timestamp.**</font>"
   ]
  },
  {
   "cell_type": "markdown",
   "metadata": {},
   "source": [
    "Finding the index of 3 different lengthes!\n",
    "\n",
    "- one is full format='%Y-%m-%d %H:%M:%S'(`19 characters`)\n",
    "- second if format='%Y-%m-%d %H:%M:%' (`18 characters`)\n",
    "- minute if format='%Y-%m-%d %H:%M:' (`17 characters`)"
   ]
  },
  {
   "cell_type": "code",
   "execution_count": 373,
   "metadata": {},
   "outputs": [],
   "source": [
    "index_full = df_clean_2['timestamp'].index[df_clean_2['timestamp'].str.len()==19]\n",
    "index_second = df_clean_2['timestamp'].index[df_clean_2['timestamp'].str.len()==18]\n",
    "index_minute = df_clean_2['timestamp'].index[df_clean_2['timestamp'].str.len()==17]"
   ]
  },
  {
   "cell_type": "code",
   "execution_count": null,
   "metadata": {},
   "outputs": [],
   "source": []
  },
  {
   "cell_type": "code",
   "execution_count": 374,
   "metadata": {
    "scrolled": true
   },
   "outputs": [
    {
     "name": "stderr",
     "output_type": "stream",
     "text": [
      "C:\\Users\\Rahman\\Anaconda3\\lib\\site-packages\\ipykernel\\__main__.py:1: SettingWithCopyWarning: \n",
      "A value is trying to be set on a copy of a slice from a DataFrame\n",
      "\n",
      "See the caveats in the documentation: http://pandas.pydata.org/pandas-docs/stable/indexing.html#indexing-view-versus-copy\n",
      "  if __name__ == '__main__':\n",
      "C:\\Users\\Rahman\\Anaconda3\\lib\\site-packages\\ipykernel\\__main__.py:2: SettingWithCopyWarning: \n",
      "A value is trying to be set on a copy of a slice from a DataFrame\n",
      "\n",
      "See the caveats in the documentation: http://pandas.pydata.org/pandas-docs/stable/indexing.html#indexing-view-versus-copy\n",
      "  from ipykernel import kernelapp as app\n",
      "C:\\Users\\Rahman\\Anaconda3\\lib\\site-packages\\ipykernel\\__main__.py:3: SettingWithCopyWarning: \n",
      "A value is trying to be set on a copy of a slice from a DataFrame\n",
      "\n",
      "See the caveats in the documentation: http://pandas.pydata.org/pandas-docs/stable/indexing.html#indexing-view-versus-copy\n",
      "  app.launch_new_instance()\n"
     ]
    }
   ],
   "source": [
    "df_clean_2['timestamp'][index_full] = df_clean_2['timestamp'][index_full].str[:-3]\n",
    "df_clean_2['timestamp'][index_second] = df_clean_2['timestamp'][index_second].str[:-2]\n",
    "df_clean_2['timestamp'][index_minute] = df_clean_2['timestamp'][index_minute].str[:-1]"
   ]
  },
  {
   "cell_type": "code",
   "execution_count": 377,
   "metadata": {},
   "outputs": [
    {
     "data": {
      "text/plain": [
       "1663    2016-01-01 06:22\n",
       "Name: timestamp, dtype: object"
      ]
     },
     "execution_count": 377,
     "metadata": {},
     "output_type": "execute_result"
    }
   ],
   "source": [
    "df_clean_2['timestamp'].sample()"
   ]
  },
  {
   "cell_type": "markdown",
   "metadata": {},
   "source": [
    "Now, we convert it into a Date/Time Format using _`pd.to_datetime`_ function"
   ]
  },
  {
   "cell_type": "code",
   "execution_count": 378,
   "metadata": {},
   "outputs": [],
   "source": [
    "df_clean_2['timestamp'] = pd.to_datetime(df_clean_2['timestamp'], format='%Y-%m-%d %H:%M')"
   ]
  },
  {
   "cell_type": "code",
   "execution_count": null,
   "metadata": {},
   "outputs": [],
   "source": []
  },
  {
   "cell_type": "markdown",
   "metadata": {},
   "source": [
    "### test"
   ]
  },
  {
   "cell_type": "code",
   "execution_count": 382,
   "metadata": {},
   "outputs": [
    {
     "data": {
      "text/plain": [
       "pandas._libs.tslib.Timestamp"
      ]
     },
     "execution_count": 382,
     "metadata": {},
     "output_type": "execute_result"
    }
   ],
   "source": [
    "type(df_clean_2['timestamp'][0])"
   ]
  },
  {
   "cell_type": "code",
   "execution_count": null,
   "metadata": {},
   "outputs": [],
   "source": []
  },
  {
   "cell_type": "markdown",
   "metadata": {},
   "source": [
    "## Issues `Q-8`, `T-6`, and `T-7`"
   ]
  },
  {
   "cell_type": "markdown",
   "metadata": {},
   "source": [
    "- **`tweet_id` is not string and we need to convert it**\n",
    "- **`unnammed` column needs to be removed**\n",
    "- **`arrange` the columns in a better way**"
   ]
  },
  {
   "cell_type": "markdown",
   "metadata": {},
   "source": [
    "### Define"
   ]
  },
  {
   "cell_type": "markdown",
   "metadata": {},
   "source": [
    "Dealing with the issues listed above, we will be rearranging the columns, removing a column, and changing the tweet_id type from numeric to string!\n",
    "\n",
    "will be working with `df_tweet_clean`"
   ]
  },
  {
   "cell_type": "markdown",
   "metadata": {},
   "source": [
    "### code"
   ]
  },
  {
   "cell_type": "code",
   "execution_count": 397,
   "metadata": {},
   "outputs": [
    {
     "name": "stdout",
     "output_type": "stream",
     "text": [
      "<class 'pandas.core.frame.DataFrame'>\n",
      "RangeIndex: 2345 entries, 0 to 2344\n",
      "Data columns (total 6 columns):\n",
      "Unnamed: 0        2345 non-null int64\n",
      "favorite_count    2345 non-null int64\n",
      "full_text         2345 non-null object\n",
      "retweet_count     2345 non-null int64\n",
      "tweet_id          2345 non-null int64\n",
      "tweet_status      2345 non-null object\n",
      "dtypes: int64(4), object(2)\n",
      "memory usage: 110.0+ KB\n"
     ]
    }
   ],
   "source": [
    "df_tweet_clean.info()"
   ]
  },
  {
   "cell_type": "markdown",
   "metadata": {},
   "source": [
    "<font color='red'>**Drop the unnecessary column**</font>"
   ]
  },
  {
   "cell_type": "code",
   "execution_count": 400,
   "metadata": {},
   "outputs": [],
   "source": [
    "df_tweet_clean = df_tweet_clean.drop(df_tweet_clean.columns[0], axis=1)"
   ]
  },
  {
   "cell_type": "code",
   "execution_count": 403,
   "metadata": {},
   "outputs": [
    {
     "data": {
      "text/html": [
       "<div>\n",
       "<style scoped>\n",
       "    .dataframe tbody tr th:only-of-type {\n",
       "        vertical-align: middle;\n",
       "    }\n",
       "\n",
       "    .dataframe tbody tr th {\n",
       "        vertical-align: top;\n",
       "    }\n",
       "\n",
       "    .dataframe thead th {\n",
       "        text-align: right;\n",
       "    }\n",
       "</style>\n",
       "<table border=\"1\" class=\"dataframe\">\n",
       "  <thead>\n",
       "    <tr style=\"text-align: right;\">\n",
       "      <th></th>\n",
       "      <th>favorite_count</th>\n",
       "      <th>full_text</th>\n",
       "      <th>retweet_count</th>\n",
       "      <th>tweet_id</th>\n",
       "      <th>tweet_status</th>\n",
       "    </tr>\n",
       "  </thead>\n",
       "  <tbody>\n",
       "    <tr>\n",
       "      <th>783</th>\n",
       "      <td>0</td>\n",
       "      <td>RT @dog_rates: Meet Fizz. She thinks love is a...</td>\n",
       "      <td>5760</td>\n",
       "      <td>773336787167145985</td>\n",
       "      <td>Status(truncated=False, _api=&lt;tweepy.api.API o...</td>\n",
       "    </tr>\n",
       "  </tbody>\n",
       "</table>\n",
       "</div>"
      ],
      "text/plain": [
       "     favorite_count                                          full_text  retweet_count            tweet_id                                       tweet_status\n",
       "783               0  RT @dog_rates: Meet Fizz. She thinks love is a...           5760  773336787167145985  Status(truncated=False, _api=<tweepy.api.API o..."
      ]
     },
     "execution_count": 403,
     "metadata": {},
     "output_type": "execute_result"
    }
   ],
   "source": [
    "df_tweet_clean.sample()"
   ]
  },
  {
   "cell_type": "code",
   "execution_count": null,
   "metadata": {},
   "outputs": [],
   "source": []
  },
  {
   "cell_type": "markdown",
   "metadata": {},
   "source": [
    "<font color='red'>**Now rearrange the columns:**</font>"
   ]
  },
  {
   "cell_type": "code",
   "execution_count": 406,
   "metadata": {},
   "outputs": [],
   "source": [
    "cols = ['tweet_id', 'tweet_status', 'full_text', 'retweet_count', 'favorite_count']"
   ]
  },
  {
   "cell_type": "code",
   "execution_count": 418,
   "metadata": {},
   "outputs": [],
   "source": [
    "df_tweet_clean = df_tweet_clean[cols]"
   ]
  },
  {
   "cell_type": "code",
   "execution_count": 419,
   "metadata": {},
   "outputs": [
    {
     "name": "stdout",
     "output_type": "stream",
     "text": [
      "<class 'pandas.core.frame.DataFrame'>\n",
      "RangeIndex: 2345 entries, 0 to 2344\n",
      "Data columns (total 5 columns):\n",
      "tweet_id          2345 non-null object\n",
      "tweet_status      2345 non-null object\n",
      "full_text         2345 non-null object\n",
      "retweet_count     2345 non-null int64\n",
      "favorite_count    2345 non-null int64\n",
      "dtypes: int64(2), object(3)\n",
      "memory usage: 91.7+ KB\n"
     ]
    }
   ],
   "source": [
    "df_tweet_clean.info()"
   ]
  },
  {
   "cell_type": "markdown",
   "metadata": {},
   "source": [
    "<font color='red'>**convert tweet_id into string**</font>"
   ]
  },
  {
   "cell_type": "code",
   "execution_count": 409,
   "metadata": {},
   "outputs": [],
   "source": [
    "df_tweet_clean['tweet_id'] = df_tweet_clean['tweet_id'].astype('str')"
   ]
  },
  {
   "cell_type": "code",
   "execution_count": null,
   "metadata": {},
   "outputs": [],
   "source": []
  },
  {
   "cell_type": "markdown",
   "metadata": {},
   "source": [
    "### Test"
   ]
  },
  {
   "cell_type": "code",
   "execution_count": 410,
   "metadata": {},
   "outputs": [
    {
     "name": "stdout",
     "output_type": "stream",
     "text": [
      "<class 'pandas.core.frame.DataFrame'>\n",
      "RangeIndex: 2345 entries, 0 to 2344\n",
      "Data columns (total 5 columns):\n",
      "tweet_id          2345 non-null object\n",
      "tweet_status      2345 non-null object\n",
      "full_text         2345 non-null object\n",
      "retweet_count     2345 non-null int64\n",
      "favorite_count    2345 non-null int64\n",
      "dtypes: int64(2), object(3)\n",
      "memory usage: 91.7+ KB\n"
     ]
    }
   ],
   "source": [
    "df_tweet_clean.info()"
   ]
  },
  {
   "cell_type": "code",
   "execution_count": null,
   "metadata": {},
   "outputs": [],
   "source": []
  },
  {
   "cell_type": "markdown",
   "metadata": {},
   "source": [
    "## Issues `T-8`\n",
    "\n",
    "**Should merge 2 DataFrames (`Tweet_DataFrame` and `Tweeter_archive_enhaced`)**"
   ]
  },
  {
   "cell_type": "markdown",
   "metadata": {},
   "source": [
    "### Define"
   ]
  },
  {
   "cell_type": "markdown",
   "metadata": {},
   "source": [
    "We need to have 2 data frames in total, one for the image predictions and one for tweet info. At the moment , we have 2 seperate data frames for tweets, one was imported from the tweeter_archive_enhanced CSV file and one that we extracted from Twitter directly.\n",
    "So, here I am going to `merge` these 2 dataframes into one complete data frame for tweets.\n",
    "\n",
    "will be working with `df_tweet_clean` and `df_clean_2`."
   ]
  },
  {
   "cell_type": "markdown",
   "metadata": {},
   "source": [
    "### code"
   ]
  },
  {
   "cell_type": "code",
   "execution_count": 421,
   "metadata": {},
   "outputs": [
    {
     "data": {
      "text/html": [
       "<div>\n",
       "<style scoped>\n",
       "    .dataframe tbody tr th:only-of-type {\n",
       "        vertical-align: middle;\n",
       "    }\n",
       "\n",
       "    .dataframe tbody tr th {\n",
       "        vertical-align: top;\n",
       "    }\n",
       "\n",
       "    .dataframe thead th {\n",
       "        text-align: right;\n",
       "    }\n",
       "</style>\n",
       "<table border=\"1\" class=\"dataframe\">\n",
       "  <thead>\n",
       "    <tr style=\"text-align: right;\">\n",
       "      <th></th>\n",
       "      <th>tweet_id</th>\n",
       "      <th>tweet_status</th>\n",
       "      <th>full_text</th>\n",
       "      <th>retweet_count</th>\n",
       "      <th>favorite_count</th>\n",
       "    </tr>\n",
       "  </thead>\n",
       "  <tbody>\n",
       "    <tr>\n",
       "      <th>682</th>\n",
       "      <td>787111942498508800</td>\n",
       "      <td>Status(truncated=False, _api=&lt;tweepy.api.API o...</td>\n",
       "      <td>RT @dog_rates: This is Carl. He's very powerfu...</td>\n",
       "      <td>7607</td>\n",
       "      <td>0</td>\n",
       "    </tr>\n",
       "  </tbody>\n",
       "</table>\n",
       "</div>"
      ],
      "text/plain": [
       "               tweet_id                                       tweet_status                                          full_text  retweet_count  favorite_count\n",
       "682  787111942498508800  Status(truncated=False, _api=<tweepy.api.API o...  RT @dog_rates: This is Carl. He's very powerfu...           7607               0"
      ]
     },
     "execution_count": 421,
     "metadata": {},
     "output_type": "execute_result"
    }
   ],
   "source": [
    "df_tweet_clean.sample()"
   ]
  },
  {
   "cell_type": "code",
   "execution_count": 423,
   "metadata": {},
   "outputs": [
    {
     "name": "stdout",
     "output_type": "stream",
     "text": [
      "<class 'pandas.core.frame.DataFrame'>\n",
      "RangeIndex: 2345 entries, 0 to 2344\n",
      "Data columns (total 5 columns):\n",
      "tweet_id          2345 non-null object\n",
      "tweet_status      2345 non-null object\n",
      "full_text         2345 non-null object\n",
      "retweet_count     2345 non-null int64\n",
      "favorite_count    2345 non-null int64\n",
      "dtypes: int64(2), object(3)\n",
      "memory usage: 91.7+ KB\n"
     ]
    }
   ],
   "source": [
    "df_tweet_clean.info()"
   ]
  },
  {
   "cell_type": "code",
   "execution_count": 422,
   "metadata": {},
   "outputs": [
    {
     "data": {
      "text/html": [
       "<div>\n",
       "<style scoped>\n",
       "    .dataframe tbody tr th:only-of-type {\n",
       "        vertical-align: middle;\n",
       "    }\n",
       "\n",
       "    .dataframe tbody tr th {\n",
       "        vertical-align: top;\n",
       "    }\n",
       "\n",
       "    .dataframe thead th {\n",
       "        text-align: right;\n",
       "    }\n",
       "</style>\n",
       "<table border=\"1\" class=\"dataframe\">\n",
       "  <thead>\n",
       "    <tr style=\"text-align: right;\">\n",
       "      <th></th>\n",
       "      <th>tweet_id</th>\n",
       "      <th>in_reply_to_status_id</th>\n",
       "      <th>in_reply_to_user_id</th>\n",
       "      <th>timestamp</th>\n",
       "      <th>source</th>\n",
       "      <th>text</th>\n",
       "      <th>expanded_urls</th>\n",
       "      <th>name</th>\n",
       "      <th>dog_stage</th>\n",
       "      <th>rating</th>\n",
       "    </tr>\n",
       "  </thead>\n",
       "  <tbody>\n",
       "    <tr>\n",
       "      <th>679</th>\n",
       "      <td>789137962068021249</td>\n",
       "      <td>NaN</td>\n",
       "      <td>NaN</td>\n",
       "      <td>2016-10-20 16:15:00</td>\n",
       "      <td>iPhone</td>\n",
       "      <td>This is Bo. He's a West Congolese Bugaboop Snu...</td>\n",
       "      <td>https://twitter.com/dog_rates/status/789137962...</td>\n",
       "      <td>Bo</td>\n",
       "      <td>NaN</td>\n",
       "      <td>1.2</td>\n",
       "    </tr>\n",
       "  </tbody>\n",
       "</table>\n",
       "</div>"
      ],
      "text/plain": [
       "               tweet_id in_reply_to_status_id in_reply_to_user_id           timestamp  source                                               text                                      expanded_urls name dog_stage  rating\n",
       "679  789137962068021249                   NaN                 NaN 2016-10-20 16:15:00  iPhone  This is Bo. He's a West Congolese Bugaboop Snu...  https://twitter.com/dog_rates/status/789137962...   Bo       NaN     1.2"
      ]
     },
     "execution_count": 422,
     "metadata": {},
     "output_type": "execute_result"
    }
   ],
   "source": [
    "df_clean_2.sample()"
   ]
  },
  {
   "cell_type": "code",
   "execution_count": 424,
   "metadata": {},
   "outputs": [
    {
     "name": "stdout",
     "output_type": "stream",
     "text": [
      "<class 'pandas.core.frame.DataFrame'>\n",
      "Int64Index: 2175 entries, 0 to 2355\n",
      "Data columns (total 10 columns):\n",
      "tweet_id                 2175 non-null object\n",
      "in_reply_to_status_id    78 non-null object\n",
      "in_reply_to_user_id      78 non-null object\n",
      "timestamp                2175 non-null datetime64[ns]\n",
      "source                   2175 non-null object\n",
      "text                     2175 non-null object\n",
      "expanded_urls            2117 non-null object\n",
      "name                     1495 non-null object\n",
      "dog_stage                383 non-null object\n",
      "rating                   2175 non-null float64\n",
      "dtypes: datetime64[ns](1), float64(1), object(8)\n",
      "memory usage: 266.9+ KB\n"
     ]
    }
   ],
   "source": [
    "df_clean_2.info()"
   ]
  },
  {
   "cell_type": "markdown",
   "metadata": {},
   "source": [
    "**We are going to merge the 2 data frames on the `tweet_id`.**"
   ]
  },
  {
   "cell_type": "code",
   "execution_count": 429,
   "metadata": {},
   "outputs": [],
   "source": [
    "tweet_cleaned = pd.merge(df_clean_2, df_tweet_clean, on='tweet_id')"
   ]
  },
  {
   "cell_type": "code",
   "execution_count": 506,
   "metadata": {},
   "outputs": [
    {
     "name": "stdout",
     "output_type": "stream",
     "text": [
      "<class 'pandas.core.frame.DataFrame'>\n",
      "Int64Index: 2175 entries, 0 to 2174\n",
      "Data columns (total 13 columns):\n",
      "tweet_id                 2175 non-null object\n",
      "tweet_status             2175 non-null object\n",
      "full_text                2175 non-null object\n",
      "timestamp                2175 non-null datetime64[ns]\n",
      "source                   2175 non-null object\n",
      "expanded_urls            2117 non-null object\n",
      "name                     1495 non-null object\n",
      "dog_stage                383 non-null object\n",
      "rating                   2175 non-null float64\n",
      "retweet_count            2175 non-null int64\n",
      "favorite_count           2175 non-null int64\n",
      "in_reply_to_status_id    78 non-null object\n",
      "in_reply_to_user_id      78 non-null object\n",
      "dtypes: datetime64[ns](1), float64(1), int64(2), object(9)\n",
      "memory usage: 237.9+ KB\n"
     ]
    }
   ],
   "source": [
    "tweet_cleaned.info()"
   ]
  },
  {
   "cell_type": "code",
   "execution_count": null,
   "metadata": {},
   "outputs": [],
   "source": []
  },
  {
   "cell_type": "markdown",
   "metadata": {},
   "source": [
    "now, we notice that we have `full_text` in one dataframe and `text` in the other. So we need to drop one of them."
   ]
  },
  {
   "cell_type": "code",
   "execution_count": 431,
   "metadata": {},
   "outputs": [],
   "source": [
    "tweet_cleaned = tweet_cleaned.drop(tweet_cleaned.columns['text'], axis=1)"
   ]
  },
  {
   "cell_type": "markdown",
   "metadata": {},
   "source": [
    "**I am going to rearrange the columns in a better form**"
   ]
  },
  {
   "cell_type": "code",
   "execution_count": 434,
   "metadata": {},
   "outputs": [
    {
     "data": {
      "text/plain": [
       "['tweet_id',\n",
       " 'in_reply_to_status_id',\n",
       " 'in_reply_to_user_id',\n",
       " 'timestamp',\n",
       " 'source',\n",
       " 'expanded_urls',\n",
       " 'name',\n",
       " 'dog_stage',\n",
       " 'rating',\n",
       " 'tweet_status',\n",
       " 'full_text',\n",
       " 'retweet_count',\n",
       " 'favorite_count']"
      ]
     },
     "execution_count": 434,
     "metadata": {},
     "output_type": "execute_result"
    }
   ],
   "source": [
    "# column names:\n",
    "list(tweet_cleaned)"
   ]
  },
  {
   "cell_type": "code",
   "execution_count": 436,
   "metadata": {},
   "outputs": [
    {
     "data": {
      "text/plain": [
       "['tweet_id',\n",
       " 'tweet_status',\n",
       " 'full_text',\n",
       " 'timestamp',\n",
       " 'source',\n",
       " 'expanded_urls',\n",
       " 'name',\n",
       " 'dog_stage',\n",
       " 'rating',\n",
       " 'retweet_count',\n",
       " 'favorite_count',\n",
       " 'in_reply_to_status_id',\n",
       " 'in_reply_to_user_id']"
      ]
     },
     "execution_count": 436,
     "metadata": {},
     "output_type": "execute_result"
    }
   ],
   "source": [
    "cols = ['tweet_id', 'tweet_status', 'full_text', 'timestamp', 'source', 'expanded_urls',\n",
    "       'name', 'dog_stage', 'rating', 'retweet_count', 'favorite_count', 'in_reply_to_status_id',\n",
    "        'in_reply_to_user_id']\n",
    "cols"
   ]
  },
  {
   "cell_type": "code",
   "execution_count": 439,
   "metadata": {},
   "outputs": [],
   "source": [
    "tweet_cleaned = tweet_cleaned[cols]"
   ]
  },
  {
   "cell_type": "markdown",
   "metadata": {},
   "source": [
    "### Test"
   ]
  },
  {
   "cell_type": "code",
   "execution_count": 440,
   "metadata": {},
   "outputs": [
    {
     "data": {
      "text/html": [
       "<div>\n",
       "<style scoped>\n",
       "    .dataframe tbody tr th:only-of-type {\n",
       "        vertical-align: middle;\n",
       "    }\n",
       "\n",
       "    .dataframe tbody tr th {\n",
       "        vertical-align: top;\n",
       "    }\n",
       "\n",
       "    .dataframe thead th {\n",
       "        text-align: right;\n",
       "    }\n",
       "</style>\n",
       "<table border=\"1\" class=\"dataframe\">\n",
       "  <thead>\n",
       "    <tr style=\"text-align: right;\">\n",
       "      <th></th>\n",
       "      <th>tweet_id</th>\n",
       "      <th>tweet_status</th>\n",
       "      <th>full_text</th>\n",
       "      <th>timestamp</th>\n",
       "      <th>source</th>\n",
       "      <th>expanded_urls</th>\n",
       "      <th>name</th>\n",
       "      <th>dog_stage</th>\n",
       "      <th>rating</th>\n",
       "      <th>retweet_count</th>\n",
       "      <th>favorite_count</th>\n",
       "      <th>in_reply_to_status_id</th>\n",
       "      <th>in_reply_to_user_id</th>\n",
       "    </tr>\n",
       "  </thead>\n",
       "  <tbody>\n",
       "    <tr>\n",
       "      <th>1415</th>\n",
       "      <td>686377065986265092</td>\n",
       "      <td>Status(truncated=False, _api=&lt;tweepy.api.API o...</td>\n",
       "      <td>Meet Birf. He thinks he's gone blind. 10/10 ve...</td>\n",
       "      <td>2016-01-11 02:40:00</td>\n",
       "      <td>iPhone</td>\n",
       "      <td>https://twitter.com/dog_rates/status/686377065...</td>\n",
       "      <td>Birf</td>\n",
       "      <td>pupper</td>\n",
       "      <td>1.0</td>\n",
       "      <td>626</td>\n",
       "      <td>2385</td>\n",
       "      <td>NaN</td>\n",
       "      <td>NaN</td>\n",
       "    </tr>\n",
       "  </tbody>\n",
       "</table>\n",
       "</div>"
      ],
      "text/plain": [
       "                tweet_id                                       tweet_status                                          full_text           timestamp  source                                      expanded_urls  name dog_stage  rating  retweet_count  favorite_count in_reply_to_status_id in_reply_to_user_id\n",
       "1415  686377065986265092  Status(truncated=False, _api=<tweepy.api.API o...  Meet Birf. He thinks he's gone blind. 10/10 ve... 2016-01-11 02:40:00  iPhone  https://twitter.com/dog_rates/status/686377065...  Birf    pupper     1.0            626            2385                   NaN                 NaN"
      ]
     },
     "execution_count": 440,
     "metadata": {},
     "output_type": "execute_result"
    }
   ],
   "source": [
    "tweet_cleaned.sample()"
   ]
  },
  {
   "cell_type": "code",
   "execution_count": 443,
   "metadata": {},
   "outputs": [
    {
     "data": {
      "text/plain": [
       "2175"
      ]
     },
     "execution_count": 443,
     "metadata": {},
     "output_type": "execute_result"
    }
   ],
   "source": [
    "len(tweet_cleaned)"
   ]
  },
  {
   "cell_type": "markdown",
   "metadata": {},
   "source": [
    "Storing the new DataFrame into a CSV file called `tweet_cleaned.csv`."
   ]
  },
  {
   "cell_type": "code",
   "execution_count": 444,
   "metadata": {},
   "outputs": [],
   "source": [
    "tweet_cleaned.to_csv('tweet_cleaned.csv')"
   ]
  },
  {
   "cell_type": "code",
   "execution_count": null,
   "metadata": {},
   "outputs": [],
   "source": []
  },
  {
   "cell_type": "markdown",
   "metadata": {},
   "source": [
    "## Issues `T-4`"
   ]
  },
  {
   "cell_type": "markdown",
   "metadata": {},
   "source": [
    "### Define"
   ]
  },
  {
   "cell_type": "markdown",
   "metadata": {},
   "source": [
    "Image Prediction Data Frame has some columns with rather vague and unclear names. So I am going to change them into something more descriptive.\n",
    "\n",
    "will be working with `df_image_clean`"
   ]
  },
  {
   "cell_type": "code",
   "execution_count": 469,
   "metadata": {},
   "outputs": [
    {
     "name": "stdout",
     "output_type": "stream",
     "text": [
      "<class 'pandas.core.frame.DataFrame'>\n",
      "RangeIndex: 2075 entries, 0 to 2074\n",
      "Data columns (total 12 columns):\n",
      "tweet_id    2075 non-null int64\n",
      "jpg_url     2075 non-null object\n",
      "img_num     2075 non-null int64\n",
      "p1          2075 non-null object\n",
      "p1_conf     2075 non-null float64\n",
      "p1_dog      2075 non-null bool\n",
      "p2          2075 non-null object\n",
      "p2_conf     2075 non-null float64\n",
      "p2_dog      2075 non-null bool\n",
      "p3          2075 non-null object\n",
      "p3_conf     2075 non-null float64\n",
      "p3_dog      2075 non-null bool\n",
      "dtypes: bool(3), float64(3), int64(2), object(4)\n",
      "memory usage: 152.1+ KB\n"
     ]
    }
   ],
   "source": [
    "df_image_clean.info()"
   ]
  },
  {
   "cell_type": "code",
   "execution_count": 470,
   "metadata": {},
   "outputs": [
    {
     "data": {
      "text/html": [
       "<div>\n",
       "<style scoped>\n",
       "    .dataframe tbody tr th:only-of-type {\n",
       "        vertical-align: middle;\n",
       "    }\n",
       "\n",
       "    .dataframe tbody tr th {\n",
       "        vertical-align: top;\n",
       "    }\n",
       "\n",
       "    .dataframe thead th {\n",
       "        text-align: right;\n",
       "    }\n",
       "</style>\n",
       "<table border=\"1\" class=\"dataframe\">\n",
       "  <thead>\n",
       "    <tr style=\"text-align: right;\">\n",
       "      <th></th>\n",
       "      <th>tweet_id</th>\n",
       "      <th>jpg_url</th>\n",
       "      <th>img_num</th>\n",
       "      <th>p1</th>\n",
       "      <th>p1_conf</th>\n",
       "      <th>p1_dog</th>\n",
       "      <th>p2</th>\n",
       "      <th>p2_conf</th>\n",
       "      <th>p2_dog</th>\n",
       "      <th>p3</th>\n",
       "      <th>p3_conf</th>\n",
       "      <th>p3_dog</th>\n",
       "    </tr>\n",
       "  </thead>\n",
       "  <tbody>\n",
       "    <tr>\n",
       "      <th>1370</th>\n",
       "      <td>762035686371364864</td>\n",
       "      <td>https://pbs.twimg.com/ext_tw_video_thumb/76203...</td>\n",
       "      <td>1</td>\n",
       "      <td>home_theater</td>\n",
       "      <td>0.063152</td>\n",
       "      <td>False</td>\n",
       "      <td>cash_machine</td>\n",
       "      <td>0.046692</td>\n",
       "      <td>False</td>\n",
       "      <td>theater_curtain</td>\n",
       "      <td>0.046277</td>\n",
       "      <td>False</td>\n",
       "    </tr>\n",
       "    <tr>\n",
       "      <th>729</th>\n",
       "      <td>686606069955735556</td>\n",
       "      <td>https://pbs.twimg.com/media/CYdQktMWsAEI29_.jpg</td>\n",
       "      <td>1</td>\n",
       "      <td>Labrador_retriever</td>\n",
       "      <td>0.320012</td>\n",
       "      <td>True</td>\n",
       "      <td>Ibizan_hound</td>\n",
       "      <td>0.208172</td>\n",
       "      <td>True</td>\n",
       "      <td>Saluki</td>\n",
       "      <td>0.078975</td>\n",
       "      <td>True</td>\n",
       "    </tr>\n",
       "    <tr>\n",
       "      <th>1449</th>\n",
       "      <td>776201521193218049</td>\n",
       "      <td>https://pbs.twimg.com/media/CsWfKadWEAAtmlS.jpg</td>\n",
       "      <td>1</td>\n",
       "      <td>Rottweiler</td>\n",
       "      <td>0.502228</td>\n",
       "      <td>True</td>\n",
       "      <td>black-and-tan_coonhound</td>\n",
       "      <td>0.154594</td>\n",
       "      <td>True</td>\n",
       "      <td>bloodhound</td>\n",
       "      <td>0.135176</td>\n",
       "      <td>True</td>\n",
       "    </tr>\n",
       "    <tr>\n",
       "      <th>751</th>\n",
       "      <td>688064179421470721</td>\n",
       "      <td>https://pbs.twimg.com/media/CYx-tGaUoAAEXV8.jpg</td>\n",
       "      <td>1</td>\n",
       "      <td>Eskimo_dog</td>\n",
       "      <td>0.240602</td>\n",
       "      <td>True</td>\n",
       "      <td>Norwegian_elkhound</td>\n",
       "      <td>0.180369</td>\n",
       "      <td>True</td>\n",
       "      <td>Siberian_husky</td>\n",
       "      <td>0.090739</td>\n",
       "      <td>True</td>\n",
       "    </tr>\n",
       "    <tr>\n",
       "      <th>1129</th>\n",
       "      <td>728015554473250816</td>\n",
       "      <td>https://pbs.twimg.com/media/ChpuRyvVAAARMoq.jpg</td>\n",
       "      <td>1</td>\n",
       "      <td>cocker_spaniel</td>\n",
       "      <td>0.384559</td>\n",
       "      <td>True</td>\n",
       "      <td>golden_retriever</td>\n",
       "      <td>0.091661</td>\n",
       "      <td>True</td>\n",
       "      <td>sandbar</td>\n",
       "      <td>0.081799</td>\n",
       "      <td>False</td>\n",
       "    </tr>\n",
       "  </tbody>\n",
       "</table>\n",
       "</div>"
      ],
      "text/plain": [
       "                tweet_id                                            jpg_url  img_num                  p1   p1_conf  p1_dog                       p2   p2_conf  p2_dog               p3   p3_conf  p3_dog\n",
       "1370  762035686371364864  https://pbs.twimg.com/ext_tw_video_thumb/76203...        1        home_theater  0.063152   False             cash_machine  0.046692   False  theater_curtain  0.046277   False\n",
       "729   686606069955735556    https://pbs.twimg.com/media/CYdQktMWsAEI29_.jpg        1  Labrador_retriever  0.320012    True             Ibizan_hound  0.208172    True           Saluki  0.078975    True\n",
       "1449  776201521193218049    https://pbs.twimg.com/media/CsWfKadWEAAtmlS.jpg        1          Rottweiler  0.502228    True  black-and-tan_coonhound  0.154594    True       bloodhound  0.135176    True\n",
       "751   688064179421470721    https://pbs.twimg.com/media/CYx-tGaUoAAEXV8.jpg        1          Eskimo_dog  0.240602    True       Norwegian_elkhound  0.180369    True   Siberian_husky  0.090739    True\n",
       "1129  728015554473250816    https://pbs.twimg.com/media/ChpuRyvVAAARMoq.jpg        1      cocker_spaniel  0.384559    True         golden_retriever  0.091661    True          sandbar  0.081799   False"
      ]
     },
     "execution_count": 470,
     "metadata": {},
     "output_type": "execute_result"
    }
   ],
   "source": [
    "df_image_clean.sample(5)"
   ]
  },
  {
   "cell_type": "code",
   "execution_count": 471,
   "metadata": {},
   "outputs": [
    {
     "data": {
      "text/plain": [
       "1    1780\n",
       "2     198\n",
       "3      66\n",
       "4      31\n",
       "Name: img_num, dtype: int64"
      ]
     },
     "execution_count": 471,
     "metadata": {},
     "output_type": "execute_result"
    }
   ],
   "source": [
    "df_image_clean['img_num'].value_counts()"
   ]
  },
  {
   "cell_type": "markdown",
   "metadata": {},
   "source": [
    "### code"
   ]
  },
  {
   "cell_type": "markdown",
   "metadata": {},
   "source": [
    "First I am going to change the `tweet_id` from int64 into `string format`."
   ]
  },
  {
   "cell_type": "code",
   "execution_count": 472,
   "metadata": {},
   "outputs": [],
   "source": [
    "df_image_clean['tweet_id'] = df_image_clean['tweet_id'].astype('str')"
   ]
  },
  {
   "cell_type": "code",
   "execution_count": 473,
   "metadata": {},
   "outputs": [
    {
     "name": "stdout",
     "output_type": "stream",
     "text": [
      "<class 'pandas.core.frame.DataFrame'>\n",
      "RangeIndex: 2075 entries, 0 to 2074\n",
      "Data columns (total 12 columns):\n",
      "tweet_id    2075 non-null object\n",
      "jpg_url     2075 non-null object\n",
      "img_num     2075 non-null int64\n",
      "p1          2075 non-null object\n",
      "p1_conf     2075 non-null float64\n",
      "p1_dog      2075 non-null bool\n",
      "p2          2075 non-null object\n",
      "p2_conf     2075 non-null float64\n",
      "p2_dog      2075 non-null bool\n",
      "p3          2075 non-null object\n",
      "p3_conf     2075 non-null float64\n",
      "p3_dog      2075 non-null bool\n",
      "dtypes: bool(3), float64(3), int64(1), object(5)\n",
      "memory usage: 152.1+ KB\n"
     ]
    }
   ],
   "source": [
    "df_image_clean.info()"
   ]
  },
  {
   "cell_type": "code",
   "execution_count": 474,
   "metadata": {},
   "outputs": [
    {
     "data": {
      "text/plain": [
       "['tweet_id',\n",
       " 'jpg_url',\n",
       " 'img_num',\n",
       " 'p1',\n",
       " 'p1_conf',\n",
       " 'p1_dog',\n",
       " 'p2',\n",
       " 'p2_conf',\n",
       " 'p2_dog',\n",
       " 'p3',\n",
       " 'p3_conf',\n",
       " 'p3_dog']"
      ]
     },
     "execution_count": 474,
     "metadata": {},
     "output_type": "execute_result"
    }
   ],
   "source": [
    "cols = list(df_image_clean)\n",
    "cols"
   ]
  },
  {
   "cell_type": "code",
   "execution_count": 484,
   "metadata": {},
   "outputs": [],
   "source": [
    "df_image_clean = df_image_clean.rename(index=str, columns={\"p1\": \"prediction_1\", \"p2\": \"prediction_2\",\n",
    "                                           'p3': \"prediction_3\", \"p1_conf\": \"p1_confidence\",\n",
    "                                           \"p2_conf\": \"p2_confidence\", \"p3_conf\": \"p3_confidence\"});"
   ]
  },
  {
   "cell_type": "markdown",
   "metadata": {},
   "source": [
    "### Test"
   ]
  },
  {
   "cell_type": "code",
   "execution_count": 485,
   "metadata": {},
   "outputs": [
    {
     "data": {
      "text/plain": [
       "['tweet_id',\n",
       " 'jpg_url',\n",
       " 'img_num',\n",
       " 'prediction_1',\n",
       " 'p1_confidence',\n",
       " 'p1_dog',\n",
       " 'prediction_2',\n",
       " 'p2_confidence',\n",
       " 'p2_dog',\n",
       " 'prediction_3',\n",
       " 'p3_confidence',\n",
       " 'p3_dog']"
      ]
     },
     "execution_count": 485,
     "metadata": {},
     "output_type": "execute_result"
    }
   ],
   "source": [
    "list(df_image_clean)"
   ]
  },
  {
   "cell_type": "markdown",
   "metadata": {},
   "source": [
    "## Issues `Q-6`"
   ]
  },
  {
   "cell_type": "markdown",
   "metadata": {},
   "source": [
    "**some of the prediction lables are not dog! like llama, tub, web-site, etc. **"
   ]
  },
  {
   "cell_type": "markdown",
   "metadata": {},
   "source": [
    "### Define"
   ]
  },
  {
   "cell_type": "markdown",
   "metadata": {},
   "source": [
    "I am going to find a `complete list of dog breeds` and compare the results of the predictions and if they are not in the breed list, I am going to remove the entire record.\n",
    "\n",
    "I found a [website](http://www.purina.com.au/owning-a-dog/dog-breed-list) with a full list of dog breeds. So I am going to `scrape the website` and get a list of all dog breeds.\n",
    "\n",
    "will be working with `df_image_clean`."
   ]
  },
  {
   "cell_type": "markdown",
   "metadata": {},
   "source": [
    "### code"
   ]
  },
  {
   "cell_type": "code",
   "execution_count": 454,
   "metadata": {},
   "outputs": [],
   "source": [
    "breed_list=[]\n",
    "with open('A-Z Dog Breeds List - Purina Australia.html') as file:\n",
    "    soup = BeautifulSoup(file, 'lxml')\n",
    "    a = soup.find_all(\"div\", class_=\"breedList\")\n",
    "    \n",
    "    for breed in a:\n",
    "        for item in breed.find_all(\"li\"):\n",
    "            breed_list.append(item.get_text(strip=True))"
   ]
  },
  {
   "cell_type": "code",
   "execution_count": 455,
   "metadata": {},
   "outputs": [],
   "source": [
    "breed_df = pd.DataFrame(breed_list, columns=[\"breedname\"])"
   ]
  },
  {
   "cell_type": "code",
   "execution_count": 515,
   "metadata": {},
   "outputs": [
    {
     "data": {
      "text/plain": [
       "['Beagle',\n",
       " 'Bearded Collie',\n",
       " 'Bedlington Terrier',\n",
       " 'Belgian Shepherd Groenendael',\n",
       " 'Belgian Shepherd Dog Laekenois',\n",
       " 'Belgian Shepherd Dog Malinois',\n",
       " 'Belgian Shepherd Tervueren',\n",
       " 'Bernese Mountain Dog',\n",
       " 'Bichon Frise',\n",
       " 'Bloodhound',\n",
       " 'Border Collie',\n",
       " 'Border Terrier',\n",
       " 'Borzoi',\n",
       " 'Boston Terrier',\n",
       " 'Bouvier des Flandres']"
      ]
     },
     "execution_count": 515,
     "metadata": {},
     "output_type": "execute_result"
    }
   ],
   "source": [
    "# showing a sample data\n",
    "breed_list[15:30]"
   ]
  },
  {
   "cell_type": "code",
   "execution_count": 458,
   "metadata": {},
   "outputs": [
    {
     "data": {
      "text/html": [
       "<div>\n",
       "<style scoped>\n",
       "    .dataframe tbody tr th:only-of-type {\n",
       "        vertical-align: middle;\n",
       "    }\n",
       "\n",
       "    .dataframe tbody tr th {\n",
       "        vertical-align: top;\n",
       "    }\n",
       "\n",
       "    .dataframe thead th {\n",
       "        text-align: right;\n",
       "    }\n",
       "</style>\n",
       "<table border=\"1\" class=\"dataframe\">\n",
       "  <thead>\n",
       "    <tr style=\"text-align: right;\">\n",
       "      <th></th>\n",
       "      <th>breedname</th>\n",
       "    </tr>\n",
       "  </thead>\n",
       "  <tbody>\n",
       "    <tr>\n",
       "      <th>0</th>\n",
       "      <td>Affenpinscher</td>\n",
       "    </tr>\n",
       "    <tr>\n",
       "      <th>1</th>\n",
       "      <td>Afghan Hound</td>\n",
       "    </tr>\n",
       "    <tr>\n",
       "      <th>2</th>\n",
       "      <td>Airedale Terrier</td>\n",
       "    </tr>\n",
       "    <tr>\n",
       "      <th>3</th>\n",
       "      <td>Alaskan Malamute</td>\n",
       "    </tr>\n",
       "    <tr>\n",
       "      <th>4</th>\n",
       "      <td>American Cocker Spaniel</td>\n",
       "    </tr>\n",
       "  </tbody>\n",
       "</table>\n",
       "</div>"
      ],
      "text/plain": [
       "                 breedname\n",
       "0            Affenpinscher\n",
       "1             Afghan Hound\n",
       "2         Airedale Terrier\n",
       "3         Alaskan Malamute\n",
       "4  American Cocker Spaniel"
      ]
     },
     "execution_count": 458,
     "metadata": {},
     "output_type": "execute_result"
    }
   ],
   "source": [
    "breed_df.head()"
   ]
  },
  {
   "cell_type": "code",
   "execution_count": 516,
   "metadata": {},
   "outputs": [
    {
     "data": {
      "text/html": [
       "<div>\n",
       "<style scoped>\n",
       "    .dataframe tbody tr th:only-of-type {\n",
       "        vertical-align: middle;\n",
       "    }\n",
       "\n",
       "    .dataframe tbody tr th {\n",
       "        vertical-align: top;\n",
       "    }\n",
       "\n",
       "    .dataframe thead th {\n",
       "        text-align: right;\n",
       "    }\n",
       "</style>\n",
       "<table border=\"1\" class=\"dataframe\">\n",
       "  <thead>\n",
       "    <tr style=\"text-align: right;\">\n",
       "      <th></th>\n",
       "      <th>tweet_id</th>\n",
       "      <th>jpg_url</th>\n",
       "      <th>img_num</th>\n",
       "      <th>prediction_1</th>\n",
       "      <th>p1_confidence</th>\n",
       "      <th>p1_dog</th>\n",
       "      <th>prediction_2</th>\n",
       "      <th>p2_confidence</th>\n",
       "      <th>p2_dog</th>\n",
       "      <th>prediction_3</th>\n",
       "      <th>p3_confidence</th>\n",
       "      <th>p3_dog</th>\n",
       "    </tr>\n",
       "  </thead>\n",
       "  <tbody>\n",
       "    <tr>\n",
       "      <th>0</th>\n",
       "      <td>666020888022790149</td>\n",
       "      <td>https://pbs.twimg.com/media/CT4udn0WwAA0aMy.jpg</td>\n",
       "      <td>1</td>\n",
       "      <td>Welsh_springer_spaniel</td>\n",
       "      <td>0.465074</td>\n",
       "      <td>True</td>\n",
       "      <td>collie</td>\n",
       "      <td>0.156665</td>\n",
       "      <td>True</td>\n",
       "      <td>Shetland_sheepdog</td>\n",
       "      <td>0.061428</td>\n",
       "      <td>True</td>\n",
       "    </tr>\n",
       "    <tr>\n",
       "      <th>1</th>\n",
       "      <td>666029285002620928</td>\n",
       "      <td>https://pbs.twimg.com/media/CT42GRgUYAA5iDo.jpg</td>\n",
       "      <td>1</td>\n",
       "      <td>redbone</td>\n",
       "      <td>0.506826</td>\n",
       "      <td>True</td>\n",
       "      <td>miniature_pinscher</td>\n",
       "      <td>0.074192</td>\n",
       "      <td>True</td>\n",
       "      <td>Rhodesian_ridgeback</td>\n",
       "      <td>0.072010</td>\n",
       "      <td>True</td>\n",
       "    </tr>\n",
       "    <tr>\n",
       "      <th>2</th>\n",
       "      <td>666033412701032449</td>\n",
       "      <td>https://pbs.twimg.com/media/CT4521TWwAEvMyu.jpg</td>\n",
       "      <td>1</td>\n",
       "      <td>German_shepherd</td>\n",
       "      <td>0.596461</td>\n",
       "      <td>True</td>\n",
       "      <td>malinois</td>\n",
       "      <td>0.138584</td>\n",
       "      <td>True</td>\n",
       "      <td>bloodhound</td>\n",
       "      <td>0.116197</td>\n",
       "      <td>True</td>\n",
       "    </tr>\n",
       "    <tr>\n",
       "      <th>3</th>\n",
       "      <td>666044226329800704</td>\n",
       "      <td>https://pbs.twimg.com/media/CT5Dr8HUEAA-lEu.jpg</td>\n",
       "      <td>1</td>\n",
       "      <td>Rhodesian_ridgeback</td>\n",
       "      <td>0.408143</td>\n",
       "      <td>True</td>\n",
       "      <td>redbone</td>\n",
       "      <td>0.360687</td>\n",
       "      <td>True</td>\n",
       "      <td>miniature_pinscher</td>\n",
       "      <td>0.222752</td>\n",
       "      <td>True</td>\n",
       "    </tr>\n",
       "    <tr>\n",
       "      <th>4</th>\n",
       "      <td>666049248165822465</td>\n",
       "      <td>https://pbs.twimg.com/media/CT5IQmsXIAAKY4A.jpg</td>\n",
       "      <td>1</td>\n",
       "      <td>miniature_pinscher</td>\n",
       "      <td>0.560311</td>\n",
       "      <td>True</td>\n",
       "      <td>Rottweiler</td>\n",
       "      <td>0.243682</td>\n",
       "      <td>True</td>\n",
       "      <td>Doberman</td>\n",
       "      <td>0.154629</td>\n",
       "      <td>True</td>\n",
       "    </tr>\n",
       "  </tbody>\n",
       "</table>\n",
       "</div>"
      ],
      "text/plain": [
       "             tweet_id                                          jpg_url  img_num            prediction_1  p1_confidence  p1_dog        prediction_2  p2_confidence  p2_dog         prediction_3  p3_confidence  p3_dog\n",
       "0  666020888022790149  https://pbs.twimg.com/media/CT4udn0WwAA0aMy.jpg        1  Welsh_springer_spaniel       0.465074    True              collie       0.156665    True    Shetland_sheepdog       0.061428    True\n",
       "1  666029285002620928  https://pbs.twimg.com/media/CT42GRgUYAA5iDo.jpg        1                 redbone       0.506826    True  miniature_pinscher       0.074192    True  Rhodesian_ridgeback       0.072010    True\n",
       "2  666033412701032449  https://pbs.twimg.com/media/CT4521TWwAEvMyu.jpg        1         German_shepherd       0.596461    True            malinois       0.138584    True           bloodhound       0.116197    True\n",
       "3  666044226329800704  https://pbs.twimg.com/media/CT5Dr8HUEAA-lEu.jpg        1     Rhodesian_ridgeback       0.408143    True             redbone       0.360687    True   miniature_pinscher       0.222752    True\n",
       "4  666049248165822465  https://pbs.twimg.com/media/CT5IQmsXIAAKY4A.jpg        1      miniature_pinscher       0.560311    True          Rottweiler       0.243682    True             Doberman       0.154629    True"
      ]
     },
     "execution_count": 516,
     "metadata": {},
     "output_type": "execute_result"
    }
   ],
   "source": [
    "df_image_clean.head()"
   ]
  },
  {
   "cell_type": "code",
   "execution_count": 497,
   "metadata": {},
   "outputs": [
    {
     "data": {
      "text/plain": [
       "1751"
      ]
     },
     "execution_count": 497,
     "metadata": {},
     "output_type": "execute_result"
    }
   ],
   "source": [
    "sum(df_image_clean['p1_dog'] | df_image_clean['p2_dog'] | df_image_clean['p3_dog'] )"
   ]
  },
  {
   "cell_type": "markdown",
   "metadata": {},
   "source": [
    "Let us find those that are `NOT DOG`, according to the AI predictions (p1-p3)."
   ]
  },
  {
   "cell_type": "code",
   "execution_count": 502,
   "metadata": {},
   "outputs": [],
   "source": [
    "df_image_clean[~(df_image_clean['p1_dog'] | df_image_clean['p2_dog'] | df_image_clean['p3_dog'])];"
   ]
  },
  {
   "cell_type": "code",
   "execution_count": 503,
   "metadata": {},
   "outputs": [
    {
     "data": {
      "text/plain": [
       "324"
      ]
     },
     "execution_count": 503,
     "metadata": {},
     "output_type": "execute_result"
    }
   ],
   "source": [
    "len(df_image_clean[~(df_image_clean['p1_dog'] | df_image_clean['p2_dog'] | df_image_clean['p3_dog'])])"
   ]
  },
  {
   "cell_type": "markdown",
   "metadata": {},
   "source": [
    "According to the list above, we have `324 records` of `non-dog` images, so I am going to remove them all from the Data Frame."
   ]
  },
  {
   "cell_type": "code",
   "execution_count": 504,
   "metadata": {},
   "outputs": [],
   "source": [
    "df_image_clean_1 = df_image_clean[(df_image_clean['p1_dog'] | df_image_clean['p2_dog'] | df_image_clean['p3_dog'])]"
   ]
  },
  {
   "cell_type": "code",
   "execution_count": 505,
   "metadata": {},
   "outputs": [
    {
     "name": "stdout",
     "output_type": "stream",
     "text": [
      "<class 'pandas.core.frame.DataFrame'>\n",
      "Index: 1751 entries, 0 to 2073\n",
      "Data columns (total 12 columns):\n",
      "tweet_id         1751 non-null object\n",
      "jpg_url          1751 non-null object\n",
      "img_num          1751 non-null int64\n",
      "prediction_1     1751 non-null object\n",
      "p1_confidence    1751 non-null float64\n",
      "p1_dog           1751 non-null bool\n",
      "prediction_2     1751 non-null object\n",
      "p2_confidence    1751 non-null float64\n",
      "p2_dog           1751 non-null bool\n",
      "prediction_3     1751 non-null object\n",
      "p3_confidence    1751 non-null float64\n",
      "p3_dog           1751 non-null bool\n",
      "dtypes: bool(3), float64(3), int64(1), object(5)\n",
      "memory usage: 141.9+ KB\n"
     ]
    }
   ],
   "source": [
    "df_image_clean_1.info()"
   ]
  },
  {
   "cell_type": "code",
   "execution_count": null,
   "metadata": {},
   "outputs": [],
   "source": []
  },
  {
   "cell_type": "markdown",
   "metadata": {},
   "source": [
    "Storing the new DataFrame into a CSV file called `prediction_cleaned.csv`."
   ]
  },
  {
   "cell_type": "code",
   "execution_count": 517,
   "metadata": {},
   "outputs": [],
   "source": [
    "df_image_clean_1.to_csv('prediction_cleaned.csv')"
   ]
  },
  {
   "cell_type": "code",
   "execution_count": null,
   "metadata": {},
   "outputs": [],
   "source": []
  },
  {
   "cell_type": "markdown",
   "metadata": {},
   "source": [
    "Storing the new DataFrame into a table in a SQLite Database called `prediction.db`."
   ]
  },
  {
   "cell_type": "code",
   "execution_count": 518,
   "metadata": {},
   "outputs": [],
   "source": [
    "from sqlalchemy import create_engine"
   ]
  },
  {
   "cell_type": "code",
   "execution_count": 519,
   "metadata": {},
   "outputs": [],
   "source": [
    "# Create SQLAlchemy Engine and empty prediction database\n",
    "# prediction.db will not show up in the Jupyter Notebook dashboard yet\n",
    "engine = create_engine('sqlite:///prediction.db')"
   ]
  },
  {
   "cell_type": "code",
   "execution_count": 520,
   "metadata": {},
   "outputs": [],
   "source": [
    "df_image_clean_1.to_sql('master', engine, index=False)"
   ]
  },
  {
   "cell_type": "code",
   "execution_count": null,
   "metadata": {},
   "outputs": [],
   "source": []
  },
  {
   "cell_type": "markdown",
   "metadata": {},
   "source": [
    "Storing the `tweet_cleaned` DataFrame into a table in a SQLite Database called `tweets.db`."
   ]
  },
  {
   "cell_type": "code",
   "execution_count": 523,
   "metadata": {},
   "outputs": [],
   "source": [
    "# Create SQLAlchemy Engine and empty prediction database\n",
    "# tweets.db will not show up in the Jupyter Notebook dashboard yet\n",
    "engine = create_engine('sqlite:///tweets.db')"
   ]
  },
  {
   "cell_type": "code",
   "execution_count": 524,
   "metadata": {},
   "outputs": [],
   "source": [
    "tweet_cleaned.to_sql('master', engine, index=False)"
   ]
  },
  {
   "cell_type": "markdown",
   "metadata": {},
   "source": [
    "# Analysing data"
   ]
  },
  {
   "cell_type": "code",
   "execution_count": null,
   "metadata": {},
   "outputs": [],
   "source": []
  },
  {
   "cell_type": "code",
   "execution_count": null,
   "metadata": {},
   "outputs": [],
   "source": []
  },
  {
   "cell_type": "code",
   "execution_count": null,
   "metadata": {},
   "outputs": [],
   "source": []
  },
  {
   "cell_type": "code",
   "execution_count": null,
   "metadata": {},
   "outputs": [],
   "source": []
  },
  {
   "cell_type": "code",
   "execution_count": null,
   "metadata": {},
   "outputs": [],
   "source": []
  }
 ],
 "metadata": {
  "kernelspec": {
   "display_name": "Python [default]",
   "language": "python",
   "name": "python3"
  },
  "language_info": {
   "codemirror_mode": {
    "name": "ipython",
    "version": 3
   },
   "file_extension": ".py",
   "mimetype": "text/x-python",
   "name": "python",
   "nbconvert_exporter": "python",
   "pygments_lexer": "ipython3",
   "version": "3.5.5"
  }
 },
 "nbformat": 4,
 "nbformat_minor": 2
}
